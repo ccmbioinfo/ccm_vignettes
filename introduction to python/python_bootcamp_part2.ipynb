{
 "cells": [
  {
   "cell_type": "markdown",
   "id": "8e9c6df7-c03b-4e8b-ba8f-a3265c45714a",
   "metadata": {},
   "source": [
    "# Modules\n",
    "Modules are files and and folders that conatin python code, there are dozens of built in modules that come with standard python installation and tens of thousands written by 3rd party developers. Additionally you can create your own modules. "
   ]
  },
  {
   "cell_type": "code",
   "execution_count": 2,
   "id": "c0c9dd2b-cbf4-4f30-8189-5bb68a43ed3f",
   "metadata": {},
   "outputs": [
    {
     "data": {
      "text/plain": [
       "['.git',\n",
       " '.ipynb_checkpoints',\n",
       " 'python_bootcamp_p1.html',\n",
       " 'python_bootcamp_p1.ipynb',\n",
       " 'python_bootcamp_part1_recap.ipynb',\n",
       " 'python_bootcamp_part2.ipynb',\n",
       " 'README.md',\n",
       " 'rps.py',\n",
       " '__pycache__']"
      ]
     },
     "execution_count": 2,
     "metadata": {},
     "output_type": "execute_result"
    }
   ],
   "source": [
    "# importing modules, you can import modules with the import command \n",
    "import os\n",
    "\n",
    "os.listdir() #list items in the current director"
   ]
  },
  {
   "cell_type": "code",
   "execution_count": 4,
   "id": "1e9d3650-d726-4319-9e12-e81cef7cfb6c",
   "metadata": {},
   "outputs": [
    {
     "data": {
      "text/plain": [
       "['.git',\n",
       " '.ipynb_checkpoints',\n",
       " 'python_bootcamp_p1.html',\n",
       " 'python_bootcamp_p1.ipynb',\n",
       " 'python_bootcamp_part1_recap.ipynb',\n",
       " 'python_bootcamp_part2.ipynb',\n",
       " 'README.md',\n",
       " 'rps.py',\n",
       " '__pycache__']"
      ]
     },
     "execution_count": 4,
     "metadata": {},
     "output_type": "execute_result"
    }
   ],
   "source": [
    "# you can specify what name you want it\n",
    "import os as alper\n",
    "alper.listdir()"
   ]
  },
  {
   "cell_type": "code",
   "execution_count": 5,
   "id": "80ef3234-1e07-4917-b278-8c86ae53a129",
   "metadata": {},
   "outputs": [
    {
     "data": {
      "text/plain": [
       "['.git',\n",
       " '.ipynb_checkpoints',\n",
       " 'python_bootcamp_p1.html',\n",
       " 'python_bootcamp_p1.ipynb',\n",
       " 'python_bootcamp_part1_recap.ipynb',\n",
       " 'python_bootcamp_part2.ipynb',\n",
       " 'README.md',\n",
       " 'rps.py',\n",
       " '__pycache__']"
      ]
     },
     "execution_count": 5,
     "metadata": {},
     "output_type": "execute_result"
    }
   ],
   "source": [
    "# you can import specific functions or submodules\n",
    "from os import listdir as alper\n",
    "alper()"
   ]
  },
  {
   "cell_type": "markdown",
   "id": "25aeb142-e743-4598-a44d-110281f37433",
   "metadata": {},
   "source": [
    "## Built in modules\n",
    "\n",
    "There are a bunch of modules we will take a look at, these are modules I find to be helpful when coding for data analysis. \n",
    "\n",
    "## os module\n",
    "\n",
    "this module is useful for interacting with the operating system, looking for files and directories and checking if something exists. "
   ]
  },
  {
   "cell_type": "code",
   "execution_count": 1,
   "id": "7544f73c-229b-49c1-a15e-33993cacc938",
   "metadata": {},
   "outputs": [
    {
     "data": {
      "text/plain": [
       "['.git',\n",
       " '.ipynb_checkpoints',\n",
       " 'python_bootcamp_p1.html',\n",
       " 'python_bootcamp_p1.ipynb',\n",
       " 'python_bootcamp_part1_recap.ipynb',\n",
       " 'python_bootcamp_part2.ipynb',\n",
       " 'README.md',\n",
       " 'rps.py',\n",
       " '__pycache__']"
      ]
     },
     "execution_count": 1,
     "metadata": {},
     "output_type": "execute_result"
    }
   ],
   "source": [
    "import os \n",
    "os.listdir()"
   ]
  },
  {
   "cell_type": "code",
   "execution_count": 2,
   "id": "a97d3010-bc98-45e5-9820-eaa38a1cd34c",
   "metadata": {},
   "outputs": [
    {
     "data": {
      "text/plain": [
       "['.idea',\n",
       " '.ipynb_checkpoints',\n",
       " 'bkalish',\n",
       " 'dowling',\n",
       " 'dsingh',\n",
       " 'eiwegger',\n",
       " 'esm',\n",
       " 'hiring',\n",
       " 'jdowling',\n",
       " 'jmcglade',\n",
       " 'python_bootcamp',\n",
       " 'ryeung']"
      ]
     },
     "execution_count": 2,
     "metadata": {},
     "output_type": "execute_result"
    }
   ],
   "source": [
    "os.chdir(\"..\") # go one up\n",
    "os.listdir()"
   ]
  },
  {
   "cell_type": "markdown",
   "id": "49405a04-7d46-4a41-a794-cb1ec4eb2a34",
   "metadata": {},
   "source": [
    "`os` modules also has other functions that allows you to interact with and access some of the settings of your opeating system and user. These are beyond the scope but you an check the documentation. \n",
    "\n"
   ]
  },
  {
   "cell_type": "markdown",
   "id": "a4790b52-5049-4599-804f-2678d3e98cec",
   "metadata": {},
   "source": [
    "### math module\n",
    "This module conttains some useful math operations, this is by no means an exhaustive selection, for more scientific applications use `numpy` and `scipy` but if you need math for **coding** purposes `math` will do"
   ]
  },
  {
   "cell_type": "code",
   "execution_count": 4,
   "id": "099f7f5c-eb92-4221-ae01-11691d8bb7eb",
   "metadata": {},
   "outputs": [
    {
     "data": {
      "text/plain": [
       "5"
      ]
     },
     "execution_count": 4,
     "metadata": {},
     "output_type": "execute_result"
    }
   ],
   "source": [
    "import math\n",
    "a=5.2\n",
    "round(a)"
   ]
  },
  {
   "cell_type": "code",
   "execution_count": 7,
   "id": "e0bf58d9-abbc-40ce-856a-52e72a385e6c",
   "metadata": {},
   "outputs": [
    {
     "data": {
      "text/plain": [
       "6"
      ]
     },
     "execution_count": 7,
     "metadata": {},
     "output_type": "execute_result"
    }
   ],
   "source": [
    "math.ceil(a)"
   ]
  },
  {
   "cell_type": "code",
   "execution_count": 8,
   "id": "84fb1260-72b8-4c6f-afb4-5f74a308d09e",
   "metadata": {},
   "outputs": [
    {
     "data": {
      "text/plain": [
       "5"
      ]
     },
     "execution_count": 8,
     "metadata": {},
     "output_type": "execute_result"
    }
   ],
   "source": [
    "math.floor(a)"
   ]
  },
  {
   "cell_type": "code",
   "execution_count": 9,
   "id": "a68ce5c1-2ea6-4a10-8077-f5d6cb5dcf4a",
   "metadata": {},
   "outputs": [],
   "source": [
    "# there are other useful methods for combinations, permuations, factorials etc. "
   ]
  },
  {
   "cell_type": "markdown",
   "id": "415e54ce-1ac4-4e09-9012-8d675294b869",
   "metadata": {},
   "source": [
    "### random module\n",
    "\n",
    "this module is useful for random number generation can be usefuld in some instances, for more sophisticated methods for machine learning again use `numpy`\n",
    "\n",
    "### Subprocess\n",
    "\n",
    "This is useful if you want to call other programs from inside python, for example, you can use python to crawl through a set of directories and then when you find what you are looking for you can call a program (or another python script that you wrote) for that file. \n",
    "\n",
    "For extremely simple cases you can use `os.system` but shutils provieds os specific options and allows you to capture not only the outputs but also the error so you can monitor what went wrong. "
   ]
  },
  {
   "cell_type": "code",
   "execution_count": 15,
   "id": "c2c2ed4b-b900-456a-9a5a-d7e9c8e9c4d2",
   "metadata": {},
   "outputs": [
    {
     "name": "stdout",
     "output_type": "stream",
     "text": [
      "bkalish\n",
      "dowling\n",
      "dsingh\n",
      "eiwegger\n",
      "esm\n",
      "hiring\n",
      "jdowling\n",
      "jmcglade\n",
      "python_bootcamp\n",
      "ryeung\n"
     ]
    },
    {
     "data": {
      "text/plain": [
       "CompletedProcess(args=['ls', '-l'], returncode=0)"
      ]
     },
     "execution_count": 15,
     "metadata": {},
     "output_type": "execute_result"
    }
   ],
   "source": [
    "# dir for windows and ls for linux mac\n",
    "import subprocess as sub\n",
    "sub.run([\"ls\", \"-l\"], shell=True,  check=True)"
   ]
  },
  {
   "cell_type": "markdown",
   "id": "5e9fd9f4-5e46-481f-b028-4618602b9634",
   "metadata": {},
   "source": [
    "### collections\n",
    "in addition to the already available things to store your data in (lists, dicts etc) there are addditional ones in the `collections` module, the most commonly used one is `OrderedDict`, which is an ordered dictionary, `namedtuple` a tuple with keys and Counter which is a dict that also stores the counts of items. \n",
    "\n",
    "### functools\n",
    "\n",
    "These are functions and classes that can be applied to functions, they are there to make your functions more powerful\n",
    "\n",
    "**Example** partial functions and function factories"
   ]
  },
  {
   "cell_type": "code",
   "execution_count": 17,
   "id": "2b4b9a60-5374-46bb-9d40-8cebd8c43e39",
   "metadata": {},
   "outputs": [
    {
     "data": {
      "text/plain": [
       "6"
      ]
     },
     "execution_count": 17,
     "metadata": {},
     "output_type": "execute_result"
    }
   ],
   "source": [
    "from functools import partial\n",
    "\n",
    "def simple_add(num1 ,num2):\n",
    "    return num1+num2\n",
    "\n",
    "add_5=partial(simple_add, num2=5)\n",
    "add_5(1)"
   ]
  },
  {
   "cell_type": "code",
   "execution_count": 18,
   "id": "b801040f-329b-44b4-baeb-9d0cc8003b60",
   "metadata": {},
   "outputs": [
    {
     "data": {
      "text/plain": [
       "[functools.partial(<function simple_add at 0x7f84aae016c0>, 0),\n",
       " functools.partial(<function simple_add at 0x7f84aae016c0>, 1),\n",
       " functools.partial(<function simple_add at 0x7f84aae016c0>, 2),\n",
       " functools.partial(<function simple_add at 0x7f84aae016c0>, 3),\n",
       " functools.partial(<function simple_add at 0x7f84aae016c0>, 4)]"
      ]
     },
     "execution_count": 18,
     "metadata": {},
     "output_type": "execute_result"
    }
   ],
   "source": [
    "new_funcs=[]\n",
    "for i in range(5):\n",
    "    new_funcs.append(partial(simple_add, i))\n",
    "    \n",
    "new_funcs"
   ]
  },
  {
   "cell_type": "code",
   "execution_count": 21,
   "id": "021aa9af-760a-4e37-8932-b5af043017f4",
   "metadata": {},
   "outputs": [
    {
     "data": {
      "text/plain": [
       "4"
      ]
     },
     "execution_count": 21,
     "metadata": {},
     "output_type": "execute_result"
    }
   ],
   "source": [
    "new_funcs[3](1)"
   ]
  },
  {
   "cell_type": "markdown",
   "id": "6069905b-3c05-4c49-b918-d7745d28e063",
   "metadata": {},
   "source": [
    "### operator\n",
    "This module contains operators as functions, so there is an add function, or a less than (lt) function, this is useful if you don't know what kind of comparison you will be doing ahead of time. They are also useful if you dont know how many times you will be calling these. "
   ]
  },
  {
   "cell_type": "code",
   "execution_count": 22,
   "id": "649e509a-acb7-4e8c-b30f-79719a3e8bf3",
   "metadata": {},
   "outputs": [
    {
     "data": {
      "text/plain": [
       "True"
      ]
     },
     "execution_count": 22,
     "metadata": {},
     "output_type": "execute_result"
    }
   ],
   "source": [
    "import operator as op\n",
    "op.lt(5,6) #same as 5<6"
   ]
  },
  {
   "cell_type": "markdown",
   "id": "07f1b8f3-1a74-486b-a1a3-00bdf490c6ca",
   "metadata": {},
   "source": [
    "### Itertools \n",
    "useful things for iterations, very powerful if combined with operators"
   ]
  },
  {
   "cell_type": "code",
   "execution_count": 28,
   "id": "72d9a429-c4b7-4410-838c-2f3930933502",
   "metadata": {},
   "outputs": [
    {
     "data": {
      "text/plain": [
       "[3, True, True, True, False, True, False, True, True, True]"
      ]
     },
     "execution_count": 28,
     "metadata": {},
     "output_type": "execute_result"
    }
   ],
   "source": [
    "from itertools import accumulate\n",
    "data = [3, 4, 6, 2, 1, 9, 0, 7, 5, 8]\n",
    "list(accumulate(data, op.lt)) # compare to next itemn "
   ]
  },
  {
   "cell_type": "markdown",
   "id": "f94810d7-b099-4288-943b-83b4ca6e5b58",
   "metadata": {},
   "source": [
    "There is also `multiprocessing` that allows you to spread your operations accross multiple cpus to speed it up, there is `threading` same idea but instead of creating independent processed uses shared memory (a lot harder to use)"
   ]
  },
  {
   "cell_type": "markdown",
   "id": "05348bf2-a7eb-4871-8ddd-f0bc7fdf0e55",
   "metadata": {},
   "source": [
    "# Installing 3rd party modules\n",
    "\n",
    "Sometimes (oftentimes) someone else has already coded 90% of the processing work we need to do for our data. All we need to do is install their program and use it on our data. "
   ]
  },
  {
   "cell_type": "code",
   "execution_count": null,
   "id": "f6afe940-9244-4e65-b8e0-43f0ee889ec3",
   "metadata": {},
   "outputs": [],
   "source": [
    "!pip install <new_package> --user #user makes sure that it is installed \n",
    "#for the user and does not mess with system packages needed for the operting system"
   ]
  },
  {
   "cell_type": "markdown",
   "id": "ecfe3d42-98a5-4fa4-a16c-3201414d3f30",
   "metadata": {},
   "source": [
    "## Some **very** useful 3rd party packages for data analysis\n",
    "\n",
    "### Numpy\n",
    "\n",
    "Numpy is a package develped to store n dimensional (n>=2) arrays. You can store single dimensions if you'd like but It's power really shows itself when you have multiple dimensions. You cannot have mixed types in an nd array. They have to be the same type (all integers, all strings, all booleans etc.). "
   ]
  },
  {
   "cell_type": "code",
   "execution_count": 30,
   "id": "2e4f2ffb-7b96-4b2e-b962-e7c0ca95b501",
   "metadata": {},
   "outputs": [
    {
     "data": {
      "text/plain": [
       "array([[ 0,  1,  2,  3,  4],\n",
       "       [ 5,  6,  7,  8,  9],\n",
       "       [10, 11, 12, 13, 14]])"
      ]
     },
     "execution_count": 30,
     "metadata": {},
     "output_type": "execute_result"
    }
   ],
   "source": [
    "import numpy as np #this is convention, if you don't have a good reasons to deviate don't\n",
    "\n",
    "# create an arary\n",
    "a=np.arange(15).reshape(3,5) # 3 rows 5 columns\n",
    "a"
   ]
  },
  {
   "cell_type": "code",
   "execution_count": 32,
   "id": "c04565bf-556a-4de8-bca4-bee0ace7fa01",
   "metadata": {},
   "outputs": [
    {
     "data": {
      "text/plain": [
       "array([[ 0,  1,  2],\n",
       "       [ 3,  4,  5],\n",
       "       [ 6,  7,  8],\n",
       "       [ 9, 10, 11],\n",
       "       [12, 13, 14]])"
      ]
     },
     "execution_count": 32,
     "metadata": {},
     "output_type": "execute_result"
    }
   ],
   "source": [
    "# create an array from a list\n",
    "mylist=list(range(15)) # coerce range to 0-14\n",
    "a=np.array(mylist).reshape(5,3) #we don't need arange but just an array\n",
    "a"
   ]
  },
  {
   "cell_type": "code",
   "execution_count": 33,
   "id": "fa00ff41-82de-459a-b8ea-a6c67f53f4f8",
   "metadata": {},
   "outputs": [
    {
     "ename": "ValueError",
     "evalue": "cannot reshape array of size 15 into shape (4,4)",
     "output_type": "error",
     "traceback": [
      "\u001b[0;31m---------------------------------------------------------------------------\u001b[0m",
      "\u001b[0;31mValueError\u001b[0m                                Traceback (most recent call last)",
      "Cell \u001b[0;32mIn[33], line 2\u001b[0m\n\u001b[1;32m      1\u001b[0m \u001b[38;5;66;03m# the dimensions have to match\u001b[39;00m\n\u001b[0;32m----> 2\u001b[0m \u001b[43ma\u001b[49m\u001b[38;5;241;43m.\u001b[39;49m\u001b[43mreshape\u001b[49m\u001b[43m(\u001b[49m\u001b[38;5;241;43m4\u001b[39;49m\u001b[43m,\u001b[49m\u001b[38;5;241;43m4\u001b[39;49m\u001b[43m)\u001b[49m\n",
      "\u001b[0;31mValueError\u001b[0m: cannot reshape array of size 15 into shape (4,4)"
     ]
    }
   ],
   "source": [
    "# the dimensions have to match\n",
    "a.reshape(4,4)"
   ]
  },
  {
   "cell_type": "code",
   "execution_count": 34,
   "id": "5bc2e9d4-febf-40d9-87e7-241d55e6abb5",
   "metadata": {},
   "outputs": [
    {
     "data": {
      "text/plain": [
       "array([[0., 0., 0., 0.],\n",
       "       [0., 0., 0., 0.],\n",
       "       [0., 0., 0., 0.],\n",
       "       [0., 0., 0., 0.]])"
      ]
     },
     "execution_count": 34,
     "metadata": {},
     "output_type": "execute_result"
    }
   ],
   "source": [
    "# create an empyy array \n",
    "b=np.zeros([4,4])\n",
    "c=np.ones()\n",
    "d=np.empty() #random number dump from system ram, does not mean anything, nor does it follow a distribution"
   ]
  },
  {
   "cell_type": "code",
   "execution_count": 35,
   "id": "0c7bd74b-4aa5-4c22-b107-d4f545558b95",
   "metadata": {},
   "outputs": [
    {
     "data": {
      "text/plain": [
       "array([[[0., 0., 0., 0.],\n",
       "        [0., 0., 0., 0.],\n",
       "        [0., 0., 0., 0.]],\n",
       "\n",
       "       [[0., 0., 0., 0.],\n",
       "        [0., 0., 0., 0.],\n",
       "        [0., 0., 0., 0.]]])"
      ]
     },
     "execution_count": 35,
     "metadata": {},
     "output_type": "execute_result"
    }
   ],
   "source": [
    "#more than 2 dimension\n",
    "b=np.zeros([2,3,4]) # \"rows\" each row is another matrix of 3 rows and 4 columns\n",
    "b"
   ]
  },
  {
   "cell_type": "code",
   "execution_count": 37,
   "id": "9a196579-f2ad-4d1b-b1d4-e15d6f2f7669",
   "metadata": {},
   "outputs": [
    {
     "data": {
      "text/plain": [
       "array([[[[4.67174189e-310, 0.00000000e+000, 1.72922976e-321,\n",
       "          1.14632369e-126],\n",
       "         [1.78161953e-306, 5.37724807e-299, 3.01331943e-282,\n",
       "          2.04560526e-277],\n",
       "         [2.14962657e-152, 2.13451447e-287, 2.78286850e-307,\n",
       "          1.95117045e-258]],\n",
       "\n",
       "        [[2.13451447e-287, 1.64294084e-287, 3.01288598e-282,\n",
       "          3.01460497e-282],\n",
       "         [5.11807392e-307, 6.77709621e+127, 3.91612215e-181,\n",
       "          8.10904266e+016],\n",
       "         [2.49499309e-306, 3.38553712e-301, 4.62706591e-273,\n",
       "          5.11767330e-307]]],\n",
       "\n",
       "\n",
       "       [[[1.38774107e-272, 1.34078838e-272, 1.70496309e-253,\n",
       "          1.39070212e-309],\n",
       "         [1.21422976e-305, 3.77708216e-258, 1.92099540e+243,\n",
       "          5.56996058e-307],\n",
       "         [1.97452711e-277, 3.11959638e-239, 1.39069238e-309,\n",
       "          1.75380123e-292]],\n",
       "\n",
       "        [[1.07190753e-296, 5.66487032e-263, 2.01309709e-233,\n",
       "          3.41529431e-291],\n",
       "         [4.23327636e-307, 1.07034196e-296, 1.83653610e-306,\n",
       "          3.48069273e-308],\n",
       "         [2.58046969e-263, 1.39909626e-309, 1.30086203e-258,\n",
       "          1.76179401e-312]]]])"
      ]
     },
     "execution_count": 37,
     "metadata": {},
     "output_type": "execute_result"
    }
   ],
   "source": [
    "c=np.empty([2,2,3,4]) #now 2 rows like b, there is no limit to the number of dimensions you can add\n",
    "c"
   ]
  },
  {
   "cell_type": "code",
   "execution_count": 40,
   "id": "7266b94a-d822-4981-8252-933db8cae4a7",
   "metadata": {},
   "outputs": [
    {
     "data": {
      "text/plain": [
       "array([[4., 4.],\n",
       "       [4., 4.]])"
      ]
     },
     "execution_count": 40,
     "metadata": {},
     "output_type": "execute_result"
    }
   ],
   "source": [
    "# basic operations\n",
    "a=np.ones([2,2])\n",
    "a+3"
   ]
  },
  {
   "cell_type": "code",
   "execution_count": 41,
   "id": "93705746-872f-41b7-b9bc-5ef064f684df",
   "metadata": {},
   "outputs": [
    {
     "data": {
      "text/plain": [
       "array([[1, 2],\n",
       "       [3, 4]])"
      ]
     },
     "execution_count": 41,
     "metadata": {},
     "output_type": "execute_result"
    }
   ],
   "source": [
    "b=np.array([1,2,3,4]).reshape(2,2)\n",
    "b"
   ]
  },
  {
   "cell_type": "code",
   "execution_count": 42,
   "id": "25857f11-92b1-460a-ad3b-80805f1b0b05",
   "metadata": {},
   "outputs": [
    {
     "data": {
      "text/plain": [
       "array([[2., 3.],\n",
       "       [4., 5.]])"
      ]
     },
     "execution_count": 42,
     "metadata": {},
     "output_type": "execute_result"
    }
   ],
   "source": [
    "a+b"
   ]
  },
  {
   "cell_type": "code",
   "execution_count": 43,
   "id": "9537b02e-172a-4c8e-b764-83bdc0bed14c",
   "metadata": {},
   "outputs": [
    {
     "ename": "ValueError",
     "evalue": "operands could not be broadcast together with shapes (2,2) (2,3) ",
     "output_type": "error",
     "traceback": [
      "\u001b[0;31m---------------------------------------------------------------------------\u001b[0m",
      "\u001b[0;31mValueError\u001b[0m                                Traceback (most recent call last)",
      "Cell \u001b[0;32mIn[43], line 2\u001b[0m\n\u001b[1;32m      1\u001b[0m c\u001b[38;5;241m=\u001b[39mnp\u001b[38;5;241m.\u001b[39mones([\u001b[38;5;241m2\u001b[39m,\u001b[38;5;241m3\u001b[39m])\n\u001b[0;32m----> 2\u001b[0m \u001b[43ma\u001b[49m\u001b[38;5;241;43m+\u001b[39;49m\u001b[43mc\u001b[49m\n",
      "\u001b[0;31mValueError\u001b[0m: operands could not be broadcast together with shapes (2,2) (2,3) "
     ]
    }
   ],
   "source": [
    "c=np.ones([2,3])\n",
    "a+c"
   ]
  },
  {
   "cell_type": "code",
   "execution_count": 44,
   "id": "f4c8951d-95ec-4504-9e8b-80596fc4fdb1",
   "metadata": {},
   "outputs": [
    {
     "data": {
      "text/plain": [
       "array([[2., 2., 2.],\n",
       "       [2., 2., 2.]])"
      ]
     },
     "execution_count": 44,
     "metadata": {},
     "output_type": "execute_result"
    }
   ],
   "source": [
    "# dot prduct\n",
    "a @ c"
   ]
  },
  {
   "cell_type": "code",
   "execution_count": 45,
   "id": "5743df0b-c478-467d-8184-c6059b7d97fc",
   "metadata": {},
   "outputs": [
    {
     "data": {
      "text/plain": [
       "array([[ 0,  1,  2,  3],\n",
       "       [ 4,  5,  6,  7],\n",
       "       [ 8,  9, 10, 11],\n",
       "       [12, 13, 14, 15],\n",
       "       [16, 17, 18, 19]])"
      ]
     },
     "execution_count": 45,
     "metadata": {},
     "output_type": "execute_result"
    }
   ],
   "source": [
    "a=np.array(list(range(20))).reshape(5, 4)\n",
    "a"
   ]
  },
  {
   "cell_type": "code",
   "execution_count": 53,
   "id": "9fd3a8ad-eed0-405a-af25-090e19e8f56b",
   "metadata": {},
   "outputs": [
    {
     "data": {
      "text/plain": [
       "array([[ 8,  9, 10, 11],\n",
       "       [12, 13, 14, 15]])"
      ]
     },
     "execution_count": 53,
     "metadata": {},
     "output_type": "execute_result"
    }
   ],
   "source": [
    "a[2:4, ]"
   ]
  },
  {
   "cell_type": "code",
   "execution_count": 54,
   "id": "3ba3fe65-2933-4a2e-aea8-4ed413cb4c4d",
   "metadata": {},
   "outputs": [
    {
     "data": {
      "text/plain": [
       "array([[ 9, 10],\n",
       "       [13, 14]])"
      ]
     },
     "execution_count": 54,
     "metadata": {},
     "output_type": "execute_result"
    }
   ],
   "source": [
    "a[2:4, 1:3]"
   ]
  },
  {
   "cell_type": "code",
   "execution_count": 55,
   "id": "c4693bbb-43f2-4464-80fb-fb6f3be5268b",
   "metadata": {},
   "outputs": [
    {
     "data": {
      "text/plain": [
       "(5, 4)"
      ]
     },
     "execution_count": 55,
     "metadata": {},
     "output_type": "execute_result"
    }
   ],
   "source": [
    "a.shape"
   ]
  },
  {
   "cell_type": "code",
   "execution_count": 65,
   "id": "87b21950-6f6c-43f1-92b5-c1b43f1e0e69",
   "metadata": {},
   "outputs": [
    {
     "name": "stdout",
     "output_type": "stream",
     "text": [
      "[ 0  4  8 12 16]\n",
      "[ 1  5  9 13 17]\n",
      "[ 2  6 10 14 18]\n",
      "[ 3  7 11 15 19]\n"
     ]
    }
   ],
   "source": [
    "for i in range(a.shape[1]):\n",
    "    print(a[:, i])"
   ]
  },
  {
   "cell_type": "code",
   "execution_count": 69,
   "id": "4b6e7e13-2990-4598-818c-240f52927cf6",
   "metadata": {},
   "outputs": [
    {
     "data": {
      "text/plain": [
       "array([[ 0,  1,  2,  3,  0,  1,  2,  3],\n",
       "       [ 4,  5,  6,  7,  4,  5,  6,  7],\n",
       "       [ 8,  9, 10, 11,  8,  9, 10, 11],\n",
       "       [12, 13, 14, 15, 12, 13, 14, 15],\n",
       "       [16, 17, 18, 19, 16, 17, 18, 19]])"
      ]
     },
     "execution_count": 69,
     "metadata": {},
     "output_type": "execute_result"
    }
   ],
   "source": [
    "b=np.hstack([a,a])\n",
    "b"
   ]
  },
  {
   "cell_type": "code",
   "execution_count": 79,
   "id": "a2d136e4-58d9-456f-8037-eca67d5e8d76",
   "metadata": {},
   "outputs": [
    {
     "data": {
      "text/plain": [
       "[array([[ 0,  1,  2,  3],\n",
       "        [ 4,  5,  6,  7],\n",
       "        [ 8,  9, 10, 11],\n",
       "        [12, 13, 14, 15],\n",
       "        [16, 17, 18, 19]]),\n",
       " array([[ 0,  1,  2,  3],\n",
       "        [ 4,  5,  6,  7],\n",
       "        [ 8,  9, 10, 11],\n",
       "        [12, 13, 14, 15],\n",
       "        [16, 17, 18, 19]])]"
      ]
     },
     "execution_count": 79,
     "metadata": {},
     "output_type": "execute_result"
    }
   ],
   "source": [
    "np.hsplit(b, 2)"
   ]
  },
  {
   "cell_type": "code",
   "execution_count": 83,
   "id": "ba3fe259-2c98-42a2-bc03-45fee56d33b1",
   "metadata": {},
   "outputs": [
    {
     "data": {
      "text/plain": [
       "array([[ True, False,  True, False,  True],\n",
       "       [False, False,  True, False,  True],\n",
       "       [False, False, False, False,  True],\n",
       "       [False,  True, False, False,  True]])"
      ]
     },
     "execution_count": 83,
     "metadata": {},
     "output_type": "execute_result"
    }
   ],
   "source": [
    "# using a boolean array to filter data\n",
    "a=np.random.uniform(0, 1, 20).reshape(4,5) #low 0 high, 1 20 values from uniform distribution\n",
    "a>0.5"
   ]
  },
  {
   "cell_type": "code",
   "execution_count": 84,
   "id": "e28dc196-faaf-4000-ab2e-8626c584a65d",
   "metadata": {},
   "outputs": [
    {
     "data": {
      "text/plain": [
       "array([[0.43895393, 0.29760635, 0.85480045, 0.23785315, 0.48824045],\n",
       "       [0.14249246, 0.24627978, 0.16029693, 0.37844197, 0.59457941],\n",
       "       [0.56968004, 0.85890656, 0.3029475 , 0.26339657, 0.43538653],\n",
       "       [0.6935304 , 0.08447673, 0.44591272, 0.02916034, 0.85438246]])"
      ]
     },
     "execution_count": 84,
     "metadata": {},
     "output_type": "execute_result"
    }
   ],
   "source": [
    "b=np.empty([4,5])\n",
    "b"
   ]
  },
  {
   "cell_type": "code",
   "execution_count": 86,
   "id": "60342d10-5f68-4d5f-9017-89a9790c4f02",
   "metadata": {},
   "outputs": [
    {
     "data": {
      "text/plain": [
       "array([0.43895393, 0.85480045, 0.48824045, 0.16029693, 0.59457941,\n",
       "       0.43538653, 0.08447673, 0.85438246])"
      ]
     },
     "execution_count": 86,
     "metadata": {},
     "output_type": "execute_result"
    }
   ],
   "source": [
    "b[a>0.5] "
   ]
  },
  {
   "cell_type": "code",
   "execution_count": 87,
   "id": "263b6bb7-d0e4-4544-87e0-6b3cb47477fa",
   "metadata": {},
   "outputs": [
    {
     "data": {
      "text/plain": [
       "array([[0.43895393, 0.29760635, 0.85480045, 0.23785315, 0.48824045],\n",
       "       [0.14249246, 0.24627978, 0.16029693, 0.37844197, 0.59457941],\n",
       "       [0.56968004, 0.85890656, 0.3029475 , 0.26339657, 0.43538653],\n",
       "       [0.6935304 , 0.08447673, 0.44591272, 0.02916034, 0.85438246]])"
      ]
     },
     "execution_count": 87,
     "metadata": {},
     "output_type": "execute_result"
    }
   ],
   "source": [
    "#creating one array like another\n",
    "b"
   ]
  },
  {
   "cell_type": "code",
   "execution_count": 88,
   "id": "3d96d251-9bfb-4dee-99b7-be1a1cb1ccd5",
   "metadata": {},
   "outputs": [
    {
     "data": {
      "text/plain": [
       "array([[1., 1., 1., 1., 1.],\n",
       "       [1., 1., 1., 1., 1.],\n",
       "       [1., 1., 1., 1., 1.],\n",
       "       [1., 1., 1., 1., 1.]])"
      ]
     },
     "execution_count": 88,
     "metadata": {},
     "output_type": "execute_result"
    }
   ],
   "source": [
    "c=np.ones_like(b)\n",
    "c"
   ]
  },
  {
   "cell_type": "markdown",
   "id": "3301deb4-2868-4415-a24c-786444824540",
   "metadata": {},
   "source": [
    "## Pandas\n",
    "\n",
    "pandas was inspired by R's data frames, the can continue mixed data types per column (you can do more than that but that is a little beyond scope). Columns and rows can have indicies that you can mention by location or by name, pandas also has a very powerful input/output module that can read data from diversse sources (excel, csv, url, database connections and many more). "
   ]
  },
  {
   "cell_type": "code",
   "execution_count": 89,
   "id": "b7a6c65c-1098-42f9-9139-7ef064d921c6",
   "metadata": {},
   "outputs": [],
   "source": [
    "import pandas as pd #again convention, do not deviate unless you have to"
   ]
  },
  {
   "cell_type": "code",
   "execution_count": 97,
   "id": "0bff1fd8-6458-44e8-a4f4-d1375e0a087e",
   "metadata": {},
   "outputs": [
    {
     "data": {
      "text/html": [
       "<div>\n",
       "<style scoped>\n",
       "    .dataframe tbody tr th:only-of-type {\n",
       "        vertical-align: middle;\n",
       "    }\n",
       "\n",
       "    .dataframe tbody tr th {\n",
       "        vertical-align: top;\n",
       "    }\n",
       "\n",
       "    .dataframe thead th {\n",
       "        text-align: right;\n",
       "    }\n",
       "</style>\n",
       "<table border=\"1\" class=\"dataframe\">\n",
       "  <thead>\n",
       "    <tr style=\"text-align: right;\">\n",
       "      <th></th>\n",
       "      <th>0</th>\n",
       "      <th>1</th>\n",
       "      <th>2</th>\n",
       "      <th>3</th>\n",
       "      <th>4</th>\n",
       "    </tr>\n",
       "  </thead>\n",
       "  <tbody>\n",
       "    <tr>\n",
       "      <th>0</th>\n",
       "      <td>0.788370</td>\n",
       "      <td>0.348833</td>\n",
       "      <td>0.965920</td>\n",
       "      <td>0.462730</td>\n",
       "      <td>0.502109</td>\n",
       "    </tr>\n",
       "    <tr>\n",
       "      <th>1</th>\n",
       "      <td>0.216466</td>\n",
       "      <td>0.385750</td>\n",
       "      <td>0.580719</td>\n",
       "      <td>0.398136</td>\n",
       "      <td>0.683729</td>\n",
       "    </tr>\n",
       "    <tr>\n",
       "      <th>2</th>\n",
       "      <td>0.339985</td>\n",
       "      <td>0.248385</td>\n",
       "      <td>0.120657</td>\n",
       "      <td>0.329811</td>\n",
       "      <td>0.566951</td>\n",
       "    </tr>\n",
       "    <tr>\n",
       "      <th>3</th>\n",
       "      <td>0.411946</td>\n",
       "      <td>0.532010</td>\n",
       "      <td>0.016534</td>\n",
       "      <td>0.128818</td>\n",
       "      <td>0.659264</td>\n",
       "    </tr>\n",
       "  </tbody>\n",
       "</table>\n",
       "</div>"
      ],
      "text/plain": [
       "          0         1         2         3         4\n",
       "0  0.788370  0.348833  0.965920  0.462730  0.502109\n",
       "1  0.216466  0.385750  0.580719  0.398136  0.683729\n",
       "2  0.339985  0.248385  0.120657  0.329811  0.566951\n",
       "3  0.411946  0.532010  0.016534  0.128818  0.659264"
      ]
     },
     "execution_count": 97,
     "metadata": {},
     "output_type": "execute_result"
    }
   ],
   "source": [
    "# you can create a dataframe using the same methods\n",
    "x=pd.DataFrame(a) #pass a numpy array\n",
    "x"
   ]
  },
  {
   "cell_type": "code",
   "execution_count": 98,
   "id": "10fa1423-d119-4487-a94f-1c81106e9fa6",
   "metadata": {},
   "outputs": [
    {
     "data": {
      "text/plain": [
       "RangeIndex(start=0, stop=5, step=1)"
      ]
     },
     "execution_count": 98,
     "metadata": {},
     "output_type": "execute_result"
    }
   ],
   "source": [
    "# adding column names\n",
    "x.columns"
   ]
  },
  {
   "cell_type": "code",
   "execution_count": 100,
   "id": "cb4ae26e-1299-43cf-ac71-e3a46807080f",
   "metadata": {},
   "outputs": [
    {
     "data": {
      "text/html": [
       "<div>\n",
       "<style scoped>\n",
       "    .dataframe tbody tr th:only-of-type {\n",
       "        vertical-align: middle;\n",
       "    }\n",
       "\n",
       "    .dataframe tbody tr th {\n",
       "        vertical-align: top;\n",
       "    }\n",
       "\n",
       "    .dataframe thead th {\n",
       "        text-align: right;\n",
       "    }\n",
       "</style>\n",
       "<table border=\"1\" class=\"dataframe\">\n",
       "  <thead>\n",
       "    <tr style=\"text-align: right;\">\n",
       "      <th></th>\n",
       "      <th>a</th>\n",
       "      <th>b</th>\n",
       "      <th>2</th>\n",
       "      <th>3</th>\n",
       "      <th>4</th>\n",
       "    </tr>\n",
       "  </thead>\n",
       "  <tbody>\n",
       "    <tr>\n",
       "      <th>0</th>\n",
       "      <td>0.788370</td>\n",
       "      <td>0.348833</td>\n",
       "      <td>0.965920</td>\n",
       "      <td>0.462730</td>\n",
       "      <td>0.502109</td>\n",
       "    </tr>\n",
       "    <tr>\n",
       "      <th>1</th>\n",
       "      <td>0.216466</td>\n",
       "      <td>0.385750</td>\n",
       "      <td>0.580719</td>\n",
       "      <td>0.398136</td>\n",
       "      <td>0.683729</td>\n",
       "    </tr>\n",
       "    <tr>\n",
       "      <th>2</th>\n",
       "      <td>0.339985</td>\n",
       "      <td>0.248385</td>\n",
       "      <td>0.120657</td>\n",
       "      <td>0.329811</td>\n",
       "      <td>0.566951</td>\n",
       "    </tr>\n",
       "    <tr>\n",
       "      <th>3</th>\n",
       "      <td>0.411946</td>\n",
       "      <td>0.532010</td>\n",
       "      <td>0.016534</td>\n",
       "      <td>0.128818</td>\n",
       "      <td>0.659264</td>\n",
       "    </tr>\n",
       "  </tbody>\n",
       "</table>\n",
       "</div>"
      ],
      "text/plain": [
       "          a         b         2         3         4\n",
       "0  0.788370  0.348833  0.965920  0.462730  0.502109\n",
       "1  0.216466  0.385750  0.580719  0.398136  0.683729\n",
       "2  0.339985  0.248385  0.120657  0.329811  0.566951\n",
       "3  0.411946  0.532010  0.016534  0.128818  0.659264"
      ]
     },
     "execution_count": 100,
     "metadata": {},
     "output_type": "execute_result"
    }
   ],
   "source": [
    "x=x.rename(columns={0:\"a\", 1:\"b\"})\n",
    "x"
   ]
  },
  {
   "cell_type": "code",
   "execution_count": 102,
   "id": "08cf7ec6-dadf-47ef-b18d-d23af0463907",
   "metadata": {},
   "outputs": [
    {
     "data": {
      "text/html": [
       "<div>\n",
       "<style scoped>\n",
       "    .dataframe tbody tr th:only-of-type {\n",
       "        vertical-align: middle;\n",
       "    }\n",
       "\n",
       "    .dataframe tbody tr th {\n",
       "        vertical-align: top;\n",
       "    }\n",
       "\n",
       "    .dataframe thead th {\n",
       "        text-align: right;\n",
       "    }\n",
       "</style>\n",
       "<table border=\"1\" class=\"dataframe\">\n",
       "  <thead>\n",
       "    <tr style=\"text-align: right;\">\n",
       "      <th></th>\n",
       "      <th>a</th>\n",
       "      <th>b</th>\n",
       "    </tr>\n",
       "  </thead>\n",
       "  <tbody>\n",
       "    <tr>\n",
       "      <th>0</th>\n",
       "      <td>0.788370</td>\n",
       "      <td>0.348833</td>\n",
       "    </tr>\n",
       "    <tr>\n",
       "      <th>1</th>\n",
       "      <td>0.216466</td>\n",
       "      <td>0.385750</td>\n",
       "    </tr>\n",
       "    <tr>\n",
       "      <th>2</th>\n",
       "      <td>0.339985</td>\n",
       "      <td>0.248385</td>\n",
       "    </tr>\n",
       "  </tbody>\n",
       "</table>\n",
       "</div>"
      ],
      "text/plain": [
       "          a         b\n",
       "0  0.788370  0.348833\n",
       "1  0.216466  0.385750\n",
       "2  0.339985  0.248385"
      ]
     },
     "execution_count": 102,
     "metadata": {},
     "output_type": "execute_result"
    }
   ],
   "source": [
    "# you can access via location using iloc (index location)\n",
    "x.iloc[0:3, 0:2]"
   ]
  },
  {
   "cell_type": "code",
   "execution_count": 103,
   "id": "77c99754-ed9e-4afa-b060-703bbda5d4ad",
   "metadata": {},
   "outputs": [
    {
     "data": {
      "text/html": [
       "<div>\n",
       "<style scoped>\n",
       "    .dataframe tbody tr th:only-of-type {\n",
       "        vertical-align: middle;\n",
       "    }\n",
       "\n",
       "    .dataframe tbody tr th {\n",
       "        vertical-align: top;\n",
       "    }\n",
       "\n",
       "    .dataframe thead th {\n",
       "        text-align: right;\n",
       "    }\n",
       "</style>\n",
       "<table border=\"1\" class=\"dataframe\">\n",
       "  <thead>\n",
       "    <tr style=\"text-align: right;\">\n",
       "      <th></th>\n",
       "      <th>a</th>\n",
       "      <th>b</th>\n",
       "    </tr>\n",
       "  </thead>\n",
       "  <tbody>\n",
       "    <tr>\n",
       "      <th>0</th>\n",
       "      <td>0.788370</td>\n",
       "      <td>0.348833</td>\n",
       "    </tr>\n",
       "    <tr>\n",
       "      <th>1</th>\n",
       "      <td>0.216466</td>\n",
       "      <td>0.385750</td>\n",
       "    </tr>\n",
       "    <tr>\n",
       "      <th>2</th>\n",
       "      <td>0.339985</td>\n",
       "      <td>0.248385</td>\n",
       "    </tr>\n",
       "    <tr>\n",
       "      <th>3</th>\n",
       "      <td>0.411946</td>\n",
       "      <td>0.532010</td>\n",
       "    </tr>\n",
       "  </tbody>\n",
       "</table>\n",
       "</div>"
      ],
      "text/plain": [
       "          a         b\n",
       "0  0.788370  0.348833\n",
       "1  0.216466  0.385750\n",
       "2  0.339985  0.248385\n",
       "3  0.411946  0.532010"
      ]
     },
     "execution_count": 103,
     "metadata": {},
     "output_type": "execute_result"
    }
   ],
   "source": [
    "# you can acces by nanme\n",
    "x.loc[:, [\"a\", \"b\"]]"
   ]
  },
  {
   "cell_type": "code",
   "execution_count": 104,
   "id": "f1151144-30f5-4b28-811a-88196f0f507c",
   "metadata": {},
   "outputs": [
    {
     "data": {
      "text/plain": [
       "0    0.788370\n",
       "1    0.216466\n",
       "2    0.339985\n",
       "3    0.411946\n",
       "Name: a, dtype: float64"
      ]
     },
     "execution_count": 104,
     "metadata": {},
     "output_type": "execute_result"
    }
   ],
   "source": [
    "# you can acces by name directly if ther eis only one that will be a pandas series\n",
    "x[\"a\"]"
   ]
  },
  {
   "cell_type": "code",
   "execution_count": 111,
   "id": "31c14c61-9b05-4fb3-9117-132fc6056c61",
   "metadata": {},
   "outputs": [
    {
     "data": {
      "text/plain": [
       "0    1.0\n",
       "1    2.0\n",
       "2    3.0\n",
       "3    NaN\n",
       "4    5.0\n",
       "5    6.0\n",
       "dtype: float64"
      ]
     },
     "execution_count": 111,
     "metadata": {},
     "output_type": "execute_result"
    }
   ],
   "source": [
    "pd.Series([1,2,3,np.nan,5,6])"
   ]
  },
  {
   "cell_type": "code",
   "execution_count": 113,
   "id": "8a7dc83e-0872-4e56-86f9-21c301655484",
   "metadata": {},
   "outputs": [
    {
     "data": {
      "text/plain": [
       "0    1.0\n",
       "1    2.0\n",
       "2    3.0\n",
       "3    NaN\n",
       "4    5.0\n",
       "5    6.0\n",
       "dtype: float64"
      ]
     },
     "execution_count": 113,
     "metadata": {},
     "output_type": "execute_result"
    }
   ],
   "source": [
    "pd.Series([1,2,3,None,5,6])"
   ]
  },
  {
   "cell_type": "code",
   "execution_count": 117,
   "id": "909fd3ed-aff2-4498-b031-2bd59ca2e790",
   "metadata": {},
   "outputs": [
    {
     "data": {
      "text/plain": [
       "'5'"
      ]
     },
     "execution_count": 117,
     "metadata": {},
     "output_type": "execute_result"
    }
   ],
   "source": [
    "pd.Series([1,2,3,np.nan,\"5\",6])[4]"
   ]
  },
  {
   "cell_type": "code",
   "execution_count": 123,
   "id": "3cce35ed-b818-426b-b805-454a38129c3a",
   "metadata": {},
   "outputs": [
    {
     "data": {
      "text/plain": [
       "A       int64\n",
       "B      object\n",
       "C       int64\n",
       "D       int64\n",
       "E    category\n",
       "F        bool\n",
       "dtype: object"
      ]
     },
     "execution_count": 123,
     "metadata": {},
     "output_type": "execute_result"
    }
   ],
   "source": [
    "data={\n",
    "    \"A\":[1,2,3],\n",
    "    \"B\":[\"a\", \"b\", \"c\"],\n",
    "    \"C\":list(range(3)),\n",
    "    \"D\":np.array([4,5,6]),\n",
    "    \"E\":pd.Categorical([\"good\", \"bad\", \"good\"]),\n",
    "    \"F\":[True, False, False],\n",
    "}\n",
    "data=pd.DataFrame(data)\n",
    "data.dtypes"
   ]
  },
  {
   "cell_type": "code",
   "execution_count": null,
   "id": "e22adc86-2312-418e-828b-3a44fd61babb",
   "metadata": {},
   "outputs": [],
   "source": [
    "dir(data)"
   ]
  },
  {
   "cell_type": "code",
   "execution_count": 125,
   "id": "db503e8f-508b-40ed-895f-99fe24a48a23",
   "metadata": {},
   "outputs": [
    {
     "data": {
      "text/html": [
       "<div>\n",
       "<style scoped>\n",
       "    .dataframe tbody tr th:only-of-type {\n",
       "        vertical-align: middle;\n",
       "    }\n",
       "\n",
       "    .dataframe tbody tr th {\n",
       "        vertical-align: top;\n",
       "    }\n",
       "\n",
       "    .dataframe thead th {\n",
       "        text-align: right;\n",
       "    }\n",
       "</style>\n",
       "<table border=\"1\" class=\"dataframe\">\n",
       "  <thead>\n",
       "    <tr style=\"text-align: right;\">\n",
       "      <th></th>\n",
       "      <th>A</th>\n",
       "      <th>C</th>\n",
       "      <th>D</th>\n",
       "    </tr>\n",
       "  </thead>\n",
       "  <tbody>\n",
       "    <tr>\n",
       "      <th>count</th>\n",
       "      <td>3.0</td>\n",
       "      <td>3.0</td>\n",
       "      <td>3.0</td>\n",
       "    </tr>\n",
       "    <tr>\n",
       "      <th>mean</th>\n",
       "      <td>2.0</td>\n",
       "      <td>1.0</td>\n",
       "      <td>5.0</td>\n",
       "    </tr>\n",
       "    <tr>\n",
       "      <th>std</th>\n",
       "      <td>1.0</td>\n",
       "      <td>1.0</td>\n",
       "      <td>1.0</td>\n",
       "    </tr>\n",
       "    <tr>\n",
       "      <th>min</th>\n",
       "      <td>1.0</td>\n",
       "      <td>0.0</td>\n",
       "      <td>4.0</td>\n",
       "    </tr>\n",
       "    <tr>\n",
       "      <th>25%</th>\n",
       "      <td>1.5</td>\n",
       "      <td>0.5</td>\n",
       "      <td>4.5</td>\n",
       "    </tr>\n",
       "    <tr>\n",
       "      <th>50%</th>\n",
       "      <td>2.0</td>\n",
       "      <td>1.0</td>\n",
       "      <td>5.0</td>\n",
       "    </tr>\n",
       "    <tr>\n",
       "      <th>75%</th>\n",
       "      <td>2.5</td>\n",
       "      <td>1.5</td>\n",
       "      <td>5.5</td>\n",
       "    </tr>\n",
       "    <tr>\n",
       "      <th>max</th>\n",
       "      <td>3.0</td>\n",
       "      <td>2.0</td>\n",
       "      <td>6.0</td>\n",
       "    </tr>\n",
       "  </tbody>\n",
       "</table>\n",
       "</div>"
      ],
      "text/plain": [
       "         A    C    D\n",
       "count  3.0  3.0  3.0\n",
       "mean   2.0  1.0  5.0\n",
       "std    1.0  1.0  1.0\n",
       "min    1.0  0.0  4.0\n",
       "25%    1.5  0.5  4.5\n",
       "50%    2.0  1.0  5.0\n",
       "75%    2.5  1.5  5.5\n",
       "max    3.0  2.0  6.0"
      ]
     },
     "execution_count": 125,
     "metadata": {},
     "output_type": "execute_result"
    }
   ],
   "source": [
    "data.describe()"
   ]
  },
  {
   "cell_type": "code",
   "execution_count": 131,
   "id": "8d86949e-ad9d-4def-b326-ec9b4c399713",
   "metadata": {},
   "outputs": [
    {
     "data": {
      "text/html": [
       "<div>\n",
       "<style scoped>\n",
       "    .dataframe tbody tr th:only-of-type {\n",
       "        vertical-align: middle;\n",
       "    }\n",
       "\n",
       "    .dataframe tbody tr th {\n",
       "        vertical-align: top;\n",
       "    }\n",
       "\n",
       "    .dataframe thead th {\n",
       "        text-align: right;\n",
       "    }\n",
       "</style>\n",
       "<table border=\"1\" class=\"dataframe\">\n",
       "  <thead>\n",
       "    <tr style=\"text-align: right;\">\n",
       "      <th></th>\n",
       "      <th>A</th>\n",
       "      <th>B</th>\n",
       "    </tr>\n",
       "  </thead>\n",
       "  <tbody>\n",
       "    <tr>\n",
       "      <th>0</th>\n",
       "      <td>1</td>\n",
       "      <td>a</td>\n",
       "    </tr>\n",
       "    <tr>\n",
       "      <th>1</th>\n",
       "      <td>2</td>\n",
       "      <td>b</td>\n",
       "    </tr>\n",
       "    <tr>\n",
       "      <th>2</th>\n",
       "      <td>3</td>\n",
       "      <td>c</td>\n",
       "    </tr>\n",
       "  </tbody>\n",
       "</table>\n",
       "</div>"
      ],
      "text/plain": [
       "   A  B\n",
       "0  1  a\n",
       "1  2  b\n",
       "2  3  c"
      ]
     },
     "execution_count": 131,
     "metadata": {},
     "output_type": "execute_result"
    }
   ],
   "source": [
    "data[[\"A\", \"B\"]]"
   ]
  },
  {
   "cell_type": "code",
   "execution_count": 132,
   "id": "de43b2f8-3da2-4263-92ef-1f2d5d692250",
   "metadata": {},
   "outputs": [
    {
     "data": {
      "text/html": [
       "<div>\n",
       "<style scoped>\n",
       "    .dataframe tbody tr th:only-of-type {\n",
       "        vertical-align: middle;\n",
       "    }\n",
       "\n",
       "    .dataframe tbody tr th {\n",
       "        vertical-align: top;\n",
       "    }\n",
       "\n",
       "    .dataframe thead th {\n",
       "        text-align: right;\n",
       "    }\n",
       "</style>\n",
       "<table border=\"1\" class=\"dataframe\">\n",
       "  <thead>\n",
       "    <tr style=\"text-align: right;\">\n",
       "      <th></th>\n",
       "      <th>0</th>\n",
       "      <th>1</th>\n",
       "      <th>2</th>\n",
       "    </tr>\n",
       "  </thead>\n",
       "  <tbody>\n",
       "    <tr>\n",
       "      <th>A</th>\n",
       "      <td>1</td>\n",
       "      <td>2</td>\n",
       "      <td>3</td>\n",
       "    </tr>\n",
       "    <tr>\n",
       "      <th>B</th>\n",
       "      <td>a</td>\n",
       "      <td>b</td>\n",
       "      <td>c</td>\n",
       "    </tr>\n",
       "    <tr>\n",
       "      <th>C</th>\n",
       "      <td>0</td>\n",
       "      <td>1</td>\n",
       "      <td>2</td>\n",
       "    </tr>\n",
       "    <tr>\n",
       "      <th>D</th>\n",
       "      <td>4</td>\n",
       "      <td>5</td>\n",
       "      <td>6</td>\n",
       "    </tr>\n",
       "    <tr>\n",
       "      <th>E</th>\n",
       "      <td>good</td>\n",
       "      <td>bad</td>\n",
       "      <td>good</td>\n",
       "    </tr>\n",
       "    <tr>\n",
       "      <th>F</th>\n",
       "      <td>True</td>\n",
       "      <td>False</td>\n",
       "      <td>False</td>\n",
       "    </tr>\n",
       "  </tbody>\n",
       "</table>\n",
       "</div>"
      ],
      "text/plain": [
       "      0      1      2\n",
       "A     1      2      3\n",
       "B     a      b      c\n",
       "C     0      1      2\n",
       "D     4      5      6\n",
       "E  good    bad   good\n",
       "F  True  False  False"
      ]
     },
     "execution_count": 132,
     "metadata": {},
     "output_type": "execute_result"
    }
   ],
   "source": [
    "data.T"
   ]
  },
  {
   "cell_type": "code",
   "execution_count": 106,
   "id": "45f3ed9f-f21f-401b-9efc-36597d0a621b",
   "metadata": {},
   "outputs": [],
   "source": [
    "os.chdir(\"python_bootcamp/\")"
   ]
  },
  {
   "cell_type": "code",
   "execution_count": 133,
   "id": "366f12f8-b586-443b-8d9d-ebf17760c49d",
   "metadata": {},
   "outputs": [
    {
     "data": {
      "text/html": [
       "<div>\n",
       "<style scoped>\n",
       "    .dataframe tbody tr th:only-of-type {\n",
       "        vertical-align: middle;\n",
       "    }\n",
       "\n",
       "    .dataframe tbody tr th {\n",
       "        vertical-align: top;\n",
       "    }\n",
       "\n",
       "    .dataframe thead th {\n",
       "        text-align: right;\n",
       "    }\n",
       "</style>\n",
       "<table border=\"1\" class=\"dataframe\">\n",
       "  <thead>\n",
       "    <tr style=\"text-align: right;\">\n",
       "      <th></th>\n",
       "      <th>PassengerId</th>\n",
       "      <th>Survived</th>\n",
       "      <th>Pclass</th>\n",
       "      <th>Name</th>\n",
       "      <th>Sex</th>\n",
       "      <th>Age</th>\n",
       "      <th>SibSp</th>\n",
       "      <th>Parch</th>\n",
       "      <th>Ticket</th>\n",
       "      <th>Fare</th>\n",
       "      <th>Cabin</th>\n",
       "      <th>Embarked</th>\n",
       "    </tr>\n",
       "  </thead>\n",
       "  <tbody>\n",
       "    <tr>\n",
       "      <th>0</th>\n",
       "      <td>1</td>\n",
       "      <td>0</td>\n",
       "      <td>3</td>\n",
       "      <td>Braund, Mr. Owen Harris</td>\n",
       "      <td>male</td>\n",
       "      <td>22.0</td>\n",
       "      <td>1</td>\n",
       "      <td>0</td>\n",
       "      <td>A/5 21171</td>\n",
       "      <td>7.2500</td>\n",
       "      <td>NaN</td>\n",
       "      <td>S</td>\n",
       "    </tr>\n",
       "    <tr>\n",
       "      <th>1</th>\n",
       "      <td>2</td>\n",
       "      <td>1</td>\n",
       "      <td>1</td>\n",
       "      <td>Cumings, Mrs. John Bradley (Florence Briggs Th...</td>\n",
       "      <td>female</td>\n",
       "      <td>38.0</td>\n",
       "      <td>1</td>\n",
       "      <td>0</td>\n",
       "      <td>PC 17599</td>\n",
       "      <td>71.2833</td>\n",
       "      <td>C85</td>\n",
       "      <td>C</td>\n",
       "    </tr>\n",
       "    <tr>\n",
       "      <th>2</th>\n",
       "      <td>3</td>\n",
       "      <td>1</td>\n",
       "      <td>3</td>\n",
       "      <td>Heikkinen, Miss. Laina</td>\n",
       "      <td>female</td>\n",
       "      <td>26.0</td>\n",
       "      <td>0</td>\n",
       "      <td>0</td>\n",
       "      <td>STON/O2. 3101282</td>\n",
       "      <td>7.9250</td>\n",
       "      <td>NaN</td>\n",
       "      <td>S</td>\n",
       "    </tr>\n",
       "    <tr>\n",
       "      <th>3</th>\n",
       "      <td>4</td>\n",
       "      <td>1</td>\n",
       "      <td>1</td>\n",
       "      <td>Futrelle, Mrs. Jacques Heath (Lily May Peel)</td>\n",
       "      <td>female</td>\n",
       "      <td>35.0</td>\n",
       "      <td>1</td>\n",
       "      <td>0</td>\n",
       "      <td>113803</td>\n",
       "      <td>53.1000</td>\n",
       "      <td>C123</td>\n",
       "      <td>S</td>\n",
       "    </tr>\n",
       "    <tr>\n",
       "      <th>4</th>\n",
       "      <td>5</td>\n",
       "      <td>0</td>\n",
       "      <td>3</td>\n",
       "      <td>Allen, Mr. William Henry</td>\n",
       "      <td>male</td>\n",
       "      <td>35.0</td>\n",
       "      <td>0</td>\n",
       "      <td>0</td>\n",
       "      <td>373450</td>\n",
       "      <td>8.0500</td>\n",
       "      <td>NaN</td>\n",
       "      <td>S</td>\n",
       "    </tr>\n",
       "    <tr>\n",
       "      <th>...</th>\n",
       "      <td>...</td>\n",
       "      <td>...</td>\n",
       "      <td>...</td>\n",
       "      <td>...</td>\n",
       "      <td>...</td>\n",
       "      <td>...</td>\n",
       "      <td>...</td>\n",
       "      <td>...</td>\n",
       "      <td>...</td>\n",
       "      <td>...</td>\n",
       "      <td>...</td>\n",
       "      <td>...</td>\n",
       "    </tr>\n",
       "    <tr>\n",
       "      <th>886</th>\n",
       "      <td>887</td>\n",
       "      <td>0</td>\n",
       "      <td>2</td>\n",
       "      <td>Montvila, Rev. Juozas</td>\n",
       "      <td>male</td>\n",
       "      <td>27.0</td>\n",
       "      <td>0</td>\n",
       "      <td>0</td>\n",
       "      <td>211536</td>\n",
       "      <td>13.0000</td>\n",
       "      <td>NaN</td>\n",
       "      <td>S</td>\n",
       "    </tr>\n",
       "    <tr>\n",
       "      <th>887</th>\n",
       "      <td>888</td>\n",
       "      <td>1</td>\n",
       "      <td>1</td>\n",
       "      <td>Graham, Miss. Margaret Edith</td>\n",
       "      <td>female</td>\n",
       "      <td>19.0</td>\n",
       "      <td>0</td>\n",
       "      <td>0</td>\n",
       "      <td>112053</td>\n",
       "      <td>30.0000</td>\n",
       "      <td>B42</td>\n",
       "      <td>S</td>\n",
       "    </tr>\n",
       "    <tr>\n",
       "      <th>888</th>\n",
       "      <td>889</td>\n",
       "      <td>0</td>\n",
       "      <td>3</td>\n",
       "      <td>Johnston, Miss. Catherine Helen \"Carrie\"</td>\n",
       "      <td>female</td>\n",
       "      <td>NaN</td>\n",
       "      <td>1</td>\n",
       "      <td>2</td>\n",
       "      <td>W./C. 6607</td>\n",
       "      <td>23.4500</td>\n",
       "      <td>NaN</td>\n",
       "      <td>S</td>\n",
       "    </tr>\n",
       "    <tr>\n",
       "      <th>889</th>\n",
       "      <td>890</td>\n",
       "      <td>1</td>\n",
       "      <td>1</td>\n",
       "      <td>Behr, Mr. Karl Howell</td>\n",
       "      <td>male</td>\n",
       "      <td>26.0</td>\n",
       "      <td>0</td>\n",
       "      <td>0</td>\n",
       "      <td>111369</td>\n",
       "      <td>30.0000</td>\n",
       "      <td>C148</td>\n",
       "      <td>C</td>\n",
       "    </tr>\n",
       "    <tr>\n",
       "      <th>890</th>\n",
       "      <td>891</td>\n",
       "      <td>0</td>\n",
       "      <td>3</td>\n",
       "      <td>Dooley, Mr. Patrick</td>\n",
       "      <td>male</td>\n",
       "      <td>32.0</td>\n",
       "      <td>0</td>\n",
       "      <td>0</td>\n",
       "      <td>370376</td>\n",
       "      <td>7.7500</td>\n",
       "      <td>NaN</td>\n",
       "      <td>Q</td>\n",
       "    </tr>\n",
       "  </tbody>\n",
       "</table>\n",
       "<p>891 rows × 12 columns</p>\n",
       "</div>"
      ],
      "text/plain": [
       "     PassengerId  Survived  Pclass  \\\n",
       "0              1         0       3   \n",
       "1              2         1       1   \n",
       "2              3         1       3   \n",
       "3              4         1       1   \n",
       "4              5         0       3   \n",
       "..           ...       ...     ...   \n",
       "886          887         0       2   \n",
       "887          888         1       1   \n",
       "888          889         0       3   \n",
       "889          890         1       1   \n",
       "890          891         0       3   \n",
       "\n",
       "                                                  Name     Sex   Age  SibSp  \\\n",
       "0                              Braund, Mr. Owen Harris    male  22.0      1   \n",
       "1    Cumings, Mrs. John Bradley (Florence Briggs Th...  female  38.0      1   \n",
       "2                               Heikkinen, Miss. Laina  female  26.0      0   \n",
       "3         Futrelle, Mrs. Jacques Heath (Lily May Peel)  female  35.0      1   \n",
       "4                             Allen, Mr. William Henry    male  35.0      0   \n",
       "..                                                 ...     ...   ...    ...   \n",
       "886                              Montvila, Rev. Juozas    male  27.0      0   \n",
       "887                       Graham, Miss. Margaret Edith  female  19.0      0   \n",
       "888           Johnston, Miss. Catherine Helen \"Carrie\"  female   NaN      1   \n",
       "889                              Behr, Mr. Karl Howell    male  26.0      0   \n",
       "890                                Dooley, Mr. Patrick    male  32.0      0   \n",
       "\n",
       "     Parch            Ticket     Fare Cabin Embarked  \n",
       "0        0         A/5 21171   7.2500   NaN        S  \n",
       "1        0          PC 17599  71.2833   C85        C  \n",
       "2        0  STON/O2. 3101282   7.9250   NaN        S  \n",
       "3        0            113803  53.1000  C123        S  \n",
       "4        0            373450   8.0500   NaN        S  \n",
       "..     ...               ...      ...   ...      ...  \n",
       "886      0            211536  13.0000   NaN        S  \n",
       "887      0            112053  30.0000   B42        S  \n",
       "888      2        W./C. 6607  23.4500   NaN        S  \n",
       "889      0            111369  30.0000  C148        C  \n",
       "890      0            370376   7.7500   NaN        Q  \n",
       "\n",
       "[891 rows x 12 columns]"
      ]
     },
     "execution_count": 133,
     "metadata": {},
     "output_type": "execute_result"
    }
   ],
   "source": [
    "# let's read some actual data\n",
    "titanic=pd.read_csv(\"titanic.csv\", header=0, sep=\",\")\n",
    "titanic"
   ]
  },
  {
   "cell_type": "code",
   "execution_count": 147,
   "id": "f6684861-3e6b-4102-abb0-0c1926ced43d",
   "metadata": {},
   "outputs": [
    {
     "data": {
      "text/plain": [
       "(891, 12)"
      ]
     },
     "execution_count": 147,
     "metadata": {},
     "output_type": "execute_result"
    }
   ],
   "source": [
    "titanic.shape"
   ]
  },
  {
   "cell_type": "code",
   "execution_count": 134,
   "id": "9f3d7316-8ba7-4d01-b3f6-1b4ab9ebec55",
   "metadata": {},
   "outputs": [
    {
     "data": {
      "text/plain": [
       "3    491\n",
       "1    216\n",
       "2    184\n",
       "Name: Pclass, dtype: int64"
      ]
     },
     "execution_count": 134,
     "metadata": {},
     "output_type": "execute_result"
    }
   ],
   "source": [
    "titanic[\"Pclass\"].value_counts()"
   ]
  },
  {
   "cell_type": "code",
   "execution_count": 135,
   "id": "8e4ec7ab-4e10-4121-91e1-9e8235d8f8d9",
   "metadata": {},
   "outputs": [
    {
     "data": {
      "text/plain": [
       "0    3\n",
       "1    1\n",
       "9    2\n",
       "Name: Pclass, dtype: int64"
      ]
     },
     "execution_count": 135,
     "metadata": {},
     "output_type": "execute_result"
    }
   ],
   "source": [
    "titanic[\"Pclass\"].drop_duplicates()"
   ]
  },
  {
   "cell_type": "code",
   "execution_count": 146,
   "id": "bea20443-d104-4319-a907-009cd44f7973",
   "metadata": {},
   "outputs": [
    {
     "data": {
      "text/html": [
       "<div>\n",
       "<style scoped>\n",
       "    .dataframe tbody tr th:only-of-type {\n",
       "        vertical-align: middle;\n",
       "    }\n",
       "\n",
       "    .dataframe tbody tr th {\n",
       "        vertical-align: top;\n",
       "    }\n",
       "\n",
       "    .dataframe thead th {\n",
       "        text-align: right;\n",
       "    }\n",
       "</style>\n",
       "<table border=\"1\" class=\"dataframe\">\n",
       "  <thead>\n",
       "    <tr style=\"text-align: right;\">\n",
       "      <th></th>\n",
       "      <th>PassengerId</th>\n",
       "      <th>Survived</th>\n",
       "      <th>Pclass</th>\n",
       "      <th>Name</th>\n",
       "      <th>Sex</th>\n",
       "      <th>Age</th>\n",
       "      <th>SibSp</th>\n",
       "      <th>Parch</th>\n",
       "      <th>Ticket</th>\n",
       "      <th>Fare</th>\n",
       "      <th>Cabin</th>\n",
       "      <th>Embarked</th>\n",
       "    </tr>\n",
       "  </thead>\n",
       "  <tbody>\n",
       "    <tr>\n",
       "      <th>297</th>\n",
       "      <td>298</td>\n",
       "      <td>0</td>\n",
       "      <td>1</td>\n",
       "      <td>Allison, Miss. Helen Loraine</td>\n",
       "      <td>female</td>\n",
       "      <td>2.00</td>\n",
       "      <td>1</td>\n",
       "      <td>2</td>\n",
       "      <td>113781</td>\n",
       "      <td>151.5500</td>\n",
       "      <td>C22 C26</td>\n",
       "      <td>S</td>\n",
       "    </tr>\n",
       "    <tr>\n",
       "      <th>305</th>\n",
       "      <td>306</td>\n",
       "      <td>1</td>\n",
       "      <td>1</td>\n",
       "      <td>Allison, Master. Hudson Trevor</td>\n",
       "      <td>male</td>\n",
       "      <td>0.92</td>\n",
       "      <td>1</td>\n",
       "      <td>2</td>\n",
       "      <td>113781</td>\n",
       "      <td>151.5500</td>\n",
       "      <td>C22 C26</td>\n",
       "      <td>S</td>\n",
       "    </tr>\n",
       "    <tr>\n",
       "      <th>307</th>\n",
       "      <td>308</td>\n",
       "      <td>1</td>\n",
       "      <td>1</td>\n",
       "      <td>Penasco y Castellana, Mrs. Victor de Satode (M...</td>\n",
       "      <td>female</td>\n",
       "      <td>17.00</td>\n",
       "      <td>1</td>\n",
       "      <td>0</td>\n",
       "      <td>PC 17758</td>\n",
       "      <td>108.9000</td>\n",
       "      <td>C65</td>\n",
       "      <td>C</td>\n",
       "    </tr>\n",
       "    <tr>\n",
       "      <th>329</th>\n",
       "      <td>330</td>\n",
       "      <td>1</td>\n",
       "      <td>1</td>\n",
       "      <td>Hippach, Miss. Jean Gertrude</td>\n",
       "      <td>female</td>\n",
       "      <td>16.00</td>\n",
       "      <td>0</td>\n",
       "      <td>1</td>\n",
       "      <td>111361</td>\n",
       "      <td>57.9792</td>\n",
       "      <td>B18</td>\n",
       "      <td>C</td>\n",
       "    </tr>\n",
       "    <tr>\n",
       "      <th>435</th>\n",
       "      <td>436</td>\n",
       "      <td>1</td>\n",
       "      <td>1</td>\n",
       "      <td>Carter, Miss. Lucile Polk</td>\n",
       "      <td>female</td>\n",
       "      <td>14.00</td>\n",
       "      <td>1</td>\n",
       "      <td>2</td>\n",
       "      <td>113760</td>\n",
       "      <td>120.0000</td>\n",
       "      <td>B96 B98</td>\n",
       "      <td>S</td>\n",
       "    </tr>\n",
       "    <tr>\n",
       "      <th>445</th>\n",
       "      <td>446</td>\n",
       "      <td>1</td>\n",
       "      <td>1</td>\n",
       "      <td>Dodge, Master. Washington</td>\n",
       "      <td>male</td>\n",
       "      <td>4.00</td>\n",
       "      <td>0</td>\n",
       "      <td>2</td>\n",
       "      <td>33638</td>\n",
       "      <td>81.8583</td>\n",
       "      <td>A34</td>\n",
       "      <td>S</td>\n",
       "    </tr>\n",
       "    <tr>\n",
       "      <th>504</th>\n",
       "      <td>505</td>\n",
       "      <td>1</td>\n",
       "      <td>1</td>\n",
       "      <td>Maioni, Miss. Roberta</td>\n",
       "      <td>female</td>\n",
       "      <td>16.00</td>\n",
       "      <td>0</td>\n",
       "      <td>0</td>\n",
       "      <td>110152</td>\n",
       "      <td>86.5000</td>\n",
       "      <td>B79</td>\n",
       "      <td>S</td>\n",
       "    </tr>\n",
       "    <tr>\n",
       "      <th>550</th>\n",
       "      <td>551</td>\n",
       "      <td>1</td>\n",
       "      <td>1</td>\n",
       "      <td>Thayer, Mr. John Borland Jr</td>\n",
       "      <td>male</td>\n",
       "      <td>17.00</td>\n",
       "      <td>0</td>\n",
       "      <td>2</td>\n",
       "      <td>17421</td>\n",
       "      <td>110.8833</td>\n",
       "      <td>C70</td>\n",
       "      <td>C</td>\n",
       "    </tr>\n",
       "    <tr>\n",
       "      <th>689</th>\n",
       "      <td>690</td>\n",
       "      <td>1</td>\n",
       "      <td>1</td>\n",
       "      <td>Madill, Miss. Georgette Alexandra</td>\n",
       "      <td>female</td>\n",
       "      <td>15.00</td>\n",
       "      <td>0</td>\n",
       "      <td>1</td>\n",
       "      <td>24160</td>\n",
       "      <td>211.3375</td>\n",
       "      <td>B5</td>\n",
       "      <td>S</td>\n",
       "    </tr>\n",
       "    <tr>\n",
       "      <th>781</th>\n",
       "      <td>782</td>\n",
       "      <td>1</td>\n",
       "      <td>1</td>\n",
       "      <td>Dick, Mrs. Albert Adrian (Vera Gillespie)</td>\n",
       "      <td>female</td>\n",
       "      <td>17.00</td>\n",
       "      <td>1</td>\n",
       "      <td>0</td>\n",
       "      <td>17474</td>\n",
       "      <td>57.0000</td>\n",
       "      <td>B20</td>\n",
       "      <td>S</td>\n",
       "    </tr>\n",
       "    <tr>\n",
       "      <th>802</th>\n",
       "      <td>803</td>\n",
       "      <td>1</td>\n",
       "      <td>1</td>\n",
       "      <td>Carter, Master. William Thornton II</td>\n",
       "      <td>male</td>\n",
       "      <td>11.00</td>\n",
       "      <td>1</td>\n",
       "      <td>2</td>\n",
       "      <td>113760</td>\n",
       "      <td>120.0000</td>\n",
       "      <td>B96 B98</td>\n",
       "      <td>S</td>\n",
       "    </tr>\n",
       "    <tr>\n",
       "      <th>853</th>\n",
       "      <td>854</td>\n",
       "      <td>1</td>\n",
       "      <td>1</td>\n",
       "      <td>Lines, Miss. Mary Conover</td>\n",
       "      <td>female</td>\n",
       "      <td>16.00</td>\n",
       "      <td>0</td>\n",
       "      <td>1</td>\n",
       "      <td>PC 17592</td>\n",
       "      <td>39.4000</td>\n",
       "      <td>D28</td>\n",
       "      <td>S</td>\n",
       "    </tr>\n",
       "  </tbody>\n",
       "</table>\n",
       "</div>"
      ],
      "text/plain": [
       "     PassengerId  Survived  Pclass  \\\n",
       "297          298         0       1   \n",
       "305          306         1       1   \n",
       "307          308         1       1   \n",
       "329          330         1       1   \n",
       "435          436         1       1   \n",
       "445          446         1       1   \n",
       "504          505         1       1   \n",
       "550          551         1       1   \n",
       "689          690         1       1   \n",
       "781          782         1       1   \n",
       "802          803         1       1   \n",
       "853          854         1       1   \n",
       "\n",
       "                                                  Name     Sex    Age  SibSp  \\\n",
       "297                       Allison, Miss. Helen Loraine  female   2.00      1   \n",
       "305                     Allison, Master. Hudson Trevor    male   0.92      1   \n",
       "307  Penasco y Castellana, Mrs. Victor de Satode (M...  female  17.00      1   \n",
       "329                       Hippach, Miss. Jean Gertrude  female  16.00      0   \n",
       "435                          Carter, Miss. Lucile Polk  female  14.00      1   \n",
       "445                          Dodge, Master. Washington    male   4.00      0   \n",
       "504                              Maioni, Miss. Roberta  female  16.00      0   \n",
       "550                        Thayer, Mr. John Borland Jr    male  17.00      0   \n",
       "689                  Madill, Miss. Georgette Alexandra  female  15.00      0   \n",
       "781          Dick, Mrs. Albert Adrian (Vera Gillespie)  female  17.00      1   \n",
       "802                Carter, Master. William Thornton II    male  11.00      1   \n",
       "853                          Lines, Miss. Mary Conover  female  16.00      0   \n",
       "\n",
       "     Parch    Ticket      Fare    Cabin Embarked  \n",
       "297      2    113781  151.5500  C22 C26        S  \n",
       "305      2    113781  151.5500  C22 C26        S  \n",
       "307      0  PC 17758  108.9000      C65        C  \n",
       "329      1    111361   57.9792      B18        C  \n",
       "435      2    113760  120.0000  B96 B98        S  \n",
       "445      2     33638   81.8583      A34        S  \n",
       "504      0    110152   86.5000      B79        S  \n",
       "550      2     17421  110.8833      C70        C  \n",
       "689      1     24160  211.3375       B5        S  \n",
       "781      0     17474   57.0000      B20        S  \n",
       "802      2    113760  120.0000  B96 B98        S  \n",
       "853      1  PC 17592   39.4000      D28        S  "
      ]
     },
     "execution_count": 146,
     "metadata": {},
     "output_type": "execute_result"
    }
   ],
   "source": [
    "titanic[(titanic[\"Pclass\"]==1) & (titanic[\"Age\"] < 18)]"
   ]
  },
  {
   "cell_type": "markdown",
   "id": "d484fcfe-b283-481d-acd0-65764a813c88",
   "metadata": {},
   "source": [
    "Excercise: How many male passengers survived?"
   ]
  },
  {
   "cell_type": "code",
   "execution_count": 150,
   "id": "9a73ae42-76d8-4481-906a-c63bef12c781",
   "metadata": {},
   "outputs": [
    {
     "data": {
      "text/html": [
       "<div>\n",
       "<style scoped>\n",
       "    .dataframe tbody tr th:only-of-type {\n",
       "        vertical-align: middle;\n",
       "    }\n",
       "\n",
       "    .dataframe tbody tr th {\n",
       "        vertical-align: top;\n",
       "    }\n",
       "\n",
       "    .dataframe thead th {\n",
       "        text-align: right;\n",
       "    }\n",
       "</style>\n",
       "<table border=\"1\" class=\"dataframe\">\n",
       "  <thead>\n",
       "    <tr style=\"text-align: right;\">\n",
       "      <th></th>\n",
       "      <th>PassengerId</th>\n",
       "      <th>Survived</th>\n",
       "      <th>Pclass</th>\n",
       "      <th>Name</th>\n",
       "      <th>Sex</th>\n",
       "      <th>Age</th>\n",
       "      <th>SibSp</th>\n",
       "      <th>Parch</th>\n",
       "      <th>Ticket</th>\n",
       "      <th>Fare</th>\n",
       "      <th>Cabin</th>\n",
       "      <th>Embarked</th>\n",
       "      <th>has_relatives</th>\n",
       "    </tr>\n",
       "  </thead>\n",
       "  <tbody>\n",
       "    <tr>\n",
       "      <th>0</th>\n",
       "      <td>1</td>\n",
       "      <td>0</td>\n",
       "      <td>3</td>\n",
       "      <td>Braund, Mr. Owen Harris</td>\n",
       "      <td>male</td>\n",
       "      <td>22.0</td>\n",
       "      <td>1</td>\n",
       "      <td>0</td>\n",
       "      <td>A/5 21171</td>\n",
       "      <td>7.2500</td>\n",
       "      <td>NaN</td>\n",
       "      <td>S</td>\n",
       "      <td>True</td>\n",
       "    </tr>\n",
       "    <tr>\n",
       "      <th>1</th>\n",
       "      <td>2</td>\n",
       "      <td>1</td>\n",
       "      <td>1</td>\n",
       "      <td>Cumings, Mrs. John Bradley (Florence Briggs Th...</td>\n",
       "      <td>female</td>\n",
       "      <td>38.0</td>\n",
       "      <td>1</td>\n",
       "      <td>0</td>\n",
       "      <td>PC 17599</td>\n",
       "      <td>71.2833</td>\n",
       "      <td>C85</td>\n",
       "      <td>C</td>\n",
       "      <td>True</td>\n",
       "    </tr>\n",
       "    <tr>\n",
       "      <th>2</th>\n",
       "      <td>3</td>\n",
       "      <td>1</td>\n",
       "      <td>3</td>\n",
       "      <td>Heikkinen, Miss. Laina</td>\n",
       "      <td>female</td>\n",
       "      <td>26.0</td>\n",
       "      <td>0</td>\n",
       "      <td>0</td>\n",
       "      <td>STON/O2. 3101282</td>\n",
       "      <td>7.9250</td>\n",
       "      <td>NaN</td>\n",
       "      <td>S</td>\n",
       "      <td>False</td>\n",
       "    </tr>\n",
       "    <tr>\n",
       "      <th>3</th>\n",
       "      <td>4</td>\n",
       "      <td>1</td>\n",
       "      <td>1</td>\n",
       "      <td>Futrelle, Mrs. Jacques Heath (Lily May Peel)</td>\n",
       "      <td>female</td>\n",
       "      <td>35.0</td>\n",
       "      <td>1</td>\n",
       "      <td>0</td>\n",
       "      <td>113803</td>\n",
       "      <td>53.1000</td>\n",
       "      <td>C123</td>\n",
       "      <td>S</td>\n",
       "      <td>True</td>\n",
       "    </tr>\n",
       "    <tr>\n",
       "      <th>4</th>\n",
       "      <td>5</td>\n",
       "      <td>0</td>\n",
       "      <td>3</td>\n",
       "      <td>Allen, Mr. William Henry</td>\n",
       "      <td>male</td>\n",
       "      <td>35.0</td>\n",
       "      <td>0</td>\n",
       "      <td>0</td>\n",
       "      <td>373450</td>\n",
       "      <td>8.0500</td>\n",
       "      <td>NaN</td>\n",
       "      <td>S</td>\n",
       "      <td>False</td>\n",
       "    </tr>\n",
       "    <tr>\n",
       "      <th>...</th>\n",
       "      <td>...</td>\n",
       "      <td>...</td>\n",
       "      <td>...</td>\n",
       "      <td>...</td>\n",
       "      <td>...</td>\n",
       "      <td>...</td>\n",
       "      <td>...</td>\n",
       "      <td>...</td>\n",
       "      <td>...</td>\n",
       "      <td>...</td>\n",
       "      <td>...</td>\n",
       "      <td>...</td>\n",
       "      <td>...</td>\n",
       "    </tr>\n",
       "    <tr>\n",
       "      <th>886</th>\n",
       "      <td>887</td>\n",
       "      <td>0</td>\n",
       "      <td>2</td>\n",
       "      <td>Montvila, Rev. Juozas</td>\n",
       "      <td>male</td>\n",
       "      <td>27.0</td>\n",
       "      <td>0</td>\n",
       "      <td>0</td>\n",
       "      <td>211536</td>\n",
       "      <td>13.0000</td>\n",
       "      <td>NaN</td>\n",
       "      <td>S</td>\n",
       "      <td>False</td>\n",
       "    </tr>\n",
       "    <tr>\n",
       "      <th>887</th>\n",
       "      <td>888</td>\n",
       "      <td>1</td>\n",
       "      <td>1</td>\n",
       "      <td>Graham, Miss. Margaret Edith</td>\n",
       "      <td>female</td>\n",
       "      <td>19.0</td>\n",
       "      <td>0</td>\n",
       "      <td>0</td>\n",
       "      <td>112053</td>\n",
       "      <td>30.0000</td>\n",
       "      <td>B42</td>\n",
       "      <td>S</td>\n",
       "      <td>False</td>\n",
       "    </tr>\n",
       "    <tr>\n",
       "      <th>888</th>\n",
       "      <td>889</td>\n",
       "      <td>0</td>\n",
       "      <td>3</td>\n",
       "      <td>Johnston, Miss. Catherine Helen \"Carrie\"</td>\n",
       "      <td>female</td>\n",
       "      <td>NaN</td>\n",
       "      <td>1</td>\n",
       "      <td>2</td>\n",
       "      <td>W./C. 6607</td>\n",
       "      <td>23.4500</td>\n",
       "      <td>NaN</td>\n",
       "      <td>S</td>\n",
       "      <td>True</td>\n",
       "    </tr>\n",
       "    <tr>\n",
       "      <th>889</th>\n",
       "      <td>890</td>\n",
       "      <td>1</td>\n",
       "      <td>1</td>\n",
       "      <td>Behr, Mr. Karl Howell</td>\n",
       "      <td>male</td>\n",
       "      <td>26.0</td>\n",
       "      <td>0</td>\n",
       "      <td>0</td>\n",
       "      <td>111369</td>\n",
       "      <td>30.0000</td>\n",
       "      <td>C148</td>\n",
       "      <td>C</td>\n",
       "      <td>False</td>\n",
       "    </tr>\n",
       "    <tr>\n",
       "      <th>890</th>\n",
       "      <td>891</td>\n",
       "      <td>0</td>\n",
       "      <td>3</td>\n",
       "      <td>Dooley, Mr. Patrick</td>\n",
       "      <td>male</td>\n",
       "      <td>32.0</td>\n",
       "      <td>0</td>\n",
       "      <td>0</td>\n",
       "      <td>370376</td>\n",
       "      <td>7.7500</td>\n",
       "      <td>NaN</td>\n",
       "      <td>Q</td>\n",
       "      <td>False</td>\n",
       "    </tr>\n",
       "  </tbody>\n",
       "</table>\n",
       "<p>891 rows × 13 columns</p>\n",
       "</div>"
      ],
      "text/plain": [
       "     PassengerId  Survived  Pclass  \\\n",
       "0              1         0       3   \n",
       "1              2         1       1   \n",
       "2              3         1       3   \n",
       "3              4         1       1   \n",
       "4              5         0       3   \n",
       "..           ...       ...     ...   \n",
       "886          887         0       2   \n",
       "887          888         1       1   \n",
       "888          889         0       3   \n",
       "889          890         1       1   \n",
       "890          891         0       3   \n",
       "\n",
       "                                                  Name     Sex   Age  SibSp  \\\n",
       "0                              Braund, Mr. Owen Harris    male  22.0      1   \n",
       "1    Cumings, Mrs. John Bradley (Florence Briggs Th...  female  38.0      1   \n",
       "2                               Heikkinen, Miss. Laina  female  26.0      0   \n",
       "3         Futrelle, Mrs. Jacques Heath (Lily May Peel)  female  35.0      1   \n",
       "4                             Allen, Mr. William Henry    male  35.0      0   \n",
       "..                                                 ...     ...   ...    ...   \n",
       "886                              Montvila, Rev. Juozas    male  27.0      0   \n",
       "887                       Graham, Miss. Margaret Edith  female  19.0      0   \n",
       "888           Johnston, Miss. Catherine Helen \"Carrie\"  female   NaN      1   \n",
       "889                              Behr, Mr. Karl Howell    male  26.0      0   \n",
       "890                                Dooley, Mr. Patrick    male  32.0      0   \n",
       "\n",
       "     Parch            Ticket     Fare Cabin Embarked  has_relatives  \n",
       "0        0         A/5 21171   7.2500   NaN        S           True  \n",
       "1        0          PC 17599  71.2833   C85        C           True  \n",
       "2        0  STON/O2. 3101282   7.9250   NaN        S          False  \n",
       "3        0            113803  53.1000  C123        S           True  \n",
       "4        0            373450   8.0500   NaN        S          False  \n",
       "..     ...               ...      ...   ...      ...            ...  \n",
       "886      0            211536  13.0000   NaN        S          False  \n",
       "887      0            112053  30.0000   B42        S          False  \n",
       "888      2        W./C. 6607  23.4500   NaN        S           True  \n",
       "889      0            111369  30.0000  C148        C          False  \n",
       "890      0            370376   7.7500   NaN        Q          False  \n",
       "\n",
       "[891 rows x 13 columns]"
      ]
     },
     "execution_count": 150,
     "metadata": {},
     "output_type": "execute_result"
    }
   ],
   "source": [
    "titanic[\"has_relatives\"]=titanic[\"SibSp\"]+titanic[\"Parch\"] > 0\n",
    "titanic"
   ]
  },
  {
   "cell_type": "code",
   "execution_count": 161,
   "id": "1b585720-9673-48bf-b0b5-ca33190a27b7",
   "metadata": {},
   "outputs": [
    {
     "data": {
      "text/plain": [
       "Andersson,    9\n",
       "Sage,         7\n",
       "Goodwin,      6\n",
       "Johnson,      6\n",
       "Skoog,        6\n",
       "             ..\n",
       "Fleming,      1\n",
       "Saalfeld,     1\n",
       "Hanna,        1\n",
       "Lewy,         1\n",
       "Dooley,       1\n",
       "Name: last_names, Length: 661, dtype: int64"
      ]
     },
     "execution_count": 161,
     "metadata": {},
     "output_type": "execute_result"
    }
   ],
   "source": [
    "names=titanic[\"Name\"].str.split(\" \")\n",
    "last_names=[]\n",
    "for name in names:\n",
    "    last_names.append(name[0]) # pop returns the last value in a list and removes it from the list\n",
    "    \n",
    "titanic[\"last_names\"]=last_names\n",
    "titanic[\"last_names\"].value_counts()"
   ]
  },
  {
   "cell_type": "code",
   "execution_count": 163,
   "id": "9c1f90df-ec76-4677-a767-f36367a2349f",
   "metadata": {},
   "outputs": [
    {
     "data": {
      "text/plain": [
       "28.0"
      ]
     },
     "execution_count": 163,
     "metadata": {},
     "output_type": "execute_result"
    }
   ],
   "source": [
    "titanic[\"Age\"].median()"
   ]
  },
  {
   "cell_type": "code",
   "execution_count": 166,
   "id": "cb57c89a-d27c-412e-af4f-21f94754efbd",
   "metadata": {},
   "outputs": [
    {
     "data": {
      "text/plain": [
       "10"
      ]
     },
     "execution_count": 166,
     "metadata": {},
     "output_type": "execute_result"
    }
   ],
   "source": [
    "(titanic[\"SibSp\"]+titanic[\"Parch\"]).max()"
   ]
  },
  {
   "cell_type": "markdown",
   "id": "65ecc353-8bd0-402c-b708-2b013959cfdf",
   "metadata": {},
   "source": [
    "### Iterating over rows and columns"
   ]
  },
  {
   "cell_type": "code",
   "execution_count": 202,
   "id": "b0dd0a8d-b145-4490-acf9-5225fc347890",
   "metadata": {},
   "outputs": [
    {
     "name": "stdout",
     "output_type": "stream",
     "text": [
      "(0, PassengerId                            1\n",
      "Survived                               0\n",
      "Pclass                                 3\n",
      "Name             Braund, Mr. Owen Harris\n",
      "Sex                                 male\n",
      "Age                                 22.0\n",
      "SibSp                                  1\n",
      "Parch                                  0\n",
      "Ticket                         A/5 21171\n",
      "Fare                                7.25\n",
      "Cabin                                NaN\n",
      "Embarked                               S\n",
      "has_relatives                       True\n",
      "last_names                       Braund,\n",
      "Name: 0, dtype: object)\n"
     ]
    }
   ],
   "source": [
    "# using iterrows and itertuples\n",
    "\n",
    "for row in titanic.iterrows():\n",
    "    print(row)\n",
    "    break"
   ]
  },
  {
   "cell_type": "code",
   "execution_count": 193,
   "id": "d126f7b4-68fc-4bcb-a7a9-f1adefa0d4f5",
   "metadata": {},
   "outputs": [
    {
     "data": {
      "text/plain": [
       "0"
      ]
     },
     "execution_count": 193,
     "metadata": {},
     "output_type": "execute_result"
    }
   ],
   "source": [
    "row[0]"
   ]
  },
  {
   "cell_type": "code",
   "execution_count": 194,
   "id": "9b7acd3f-0908-4021-b09f-d7b590396d53",
   "metadata": {},
   "outputs": [
    {
     "data": {
      "text/plain": [
       "tuple"
      ]
     },
     "execution_count": 194,
     "metadata": {},
     "output_type": "execute_result"
    }
   ],
   "source": [
    "type(row)"
   ]
  },
  {
   "cell_type": "code",
   "execution_count": 195,
   "id": "30cf667d-a1e4-4def-9c59-6f345f4f7933",
   "metadata": {},
   "outputs": [
    {
     "ename": "TypeError",
     "evalue": "tuple indices must be integers or slices, not str",
     "output_type": "error",
     "traceback": [
      "\u001b[0;31m---------------------------------------------------------------------------\u001b[0m",
      "\u001b[0;31mTypeError\u001b[0m                                 Traceback (most recent call last)",
      "Cell \u001b[0;32mIn[195], line 1\u001b[0m\n\u001b[0;32m----> 1\u001b[0m \u001b[43mrow\u001b[49m\u001b[43m[\u001b[49m\u001b[38;5;124;43m\"\u001b[39;49m\u001b[38;5;124;43mTicket\u001b[39;49m\u001b[38;5;124;43m\"\u001b[39;49m\u001b[43m]\u001b[49m\n",
      "\u001b[0;31mTypeError\u001b[0m: tuple indices must be integers or slices, not str"
     ]
    }
   ],
   "source": [
    "row[\"Ticket\"]"
   ]
  },
  {
   "cell_type": "code",
   "execution_count": 205,
   "id": "2f1afb25-2f24-4903-9960-067465c51b98",
   "metadata": {},
   "outputs": [
    {
     "name": "stdout",
     "output_type": "stream",
     "text": [
      "Pandas(Index=0, PassengerId=1, Survived=0, Pclass=3, Name='Braund, Mr. Owen Harris', Sex='male', Age=22.0, SibSp=1, Parch=0, Ticket='A/5 21171', Fare=7.25, Cabin=nan, Embarked='S', has_relatives=True, last_names='Braund,')\n"
     ]
    }
   ],
   "source": [
    "for row in titanic.itertuples():\n",
    "    print(row)\n",
    "    break"
   ]
  },
  {
   "cell_type": "code",
   "execution_count": 206,
   "id": "3a03eab6-0dbd-4ff0-8753-022a93a27420",
   "metadata": {},
   "outputs": [
    {
     "data": {
      "text/plain": [
       "pandas.core.frame.Pandas"
      ]
     },
     "execution_count": 206,
     "metadata": {},
     "output_type": "execute_result"
    }
   ],
   "source": [
    "type(row)"
   ]
  },
  {
   "cell_type": "code",
   "execution_count": 207,
   "id": "c1980d44-af32-4a5e-b85b-f7b381d74e7f",
   "metadata": {},
   "outputs": [
    {
     "data": {
      "text/plain": [
       "7.25"
      ]
     },
     "execution_count": 207,
     "metadata": {},
     "output_type": "execute_result"
    }
   ],
   "source": [
    "row.Fare"
   ]
  },
  {
   "cell_type": "code",
   "execution_count": 220,
   "id": "0d4398e0-3e17-4239-aaeb-3ffd49fed65a",
   "metadata": {},
   "outputs": [],
   "source": [
    "# using apply, automatic obituary creation\n",
    "def auto_obit(row):\n",
    "    base_text=\"{} was a {} year old {} who perished in titanic. {} had {} other relatives with {} aboard.\"\n",
    "    if row[\"Survived\"]==1:\n",
    "        return None\n",
    "    else:\n",
    "        if row[\"Age\"]<18:\n",
    "            if row[\"Sex\"]==\"female\":\n",
    "                mention=\"girl\"\n",
    "                pronoun1=\"she\"\n",
    "                pronoun2=\"her\"\n",
    "            else:\n",
    "                mention=\"boy\"\n",
    "                pronoun1=\"he\"\n",
    "                pronoun2=\"him\"\n",
    "        else:\n",
    "            if row[\"Sex\"]==\"female\":\n",
    "                mention=\"woman\"\n",
    "                pronoun1=\"she\"\n",
    "                pronoun2=\"her\"\n",
    "            else:\n",
    "                mention=\"man\"\n",
    "                pronoun1=\"he\"\n",
    "                pronoun2=\"him\"\n",
    "        num_relatives=row[\"SibSp\"]+row[\"Parch\"]\n",
    "        obit=base_text.format(row[\"Name\"], row[\"Age\"], mention, pronoun1, num_relatives, pronoun2)\n",
    "        return obit\n",
    "                "
   ]
  },
  {
   "cell_type": "code",
   "execution_count": 224,
   "id": "f2590d0c-96db-41ea-b205-709045946d8c",
   "metadata": {},
   "outputs": [],
   "source": [
    "titanic[\"obituary\"]=titanic.apply(auto_obit, axis=1)"
   ]
  },
  {
   "cell_type": "code",
   "execution_count": 225,
   "id": "4a014acf-4858-4b57-bb03-3ee51ff682cf",
   "metadata": {},
   "outputs": [
    {
     "data": {
      "text/plain": [
       "'Braund, Mr. Owen Harris was a 22.0 year old man who perished in titanic. he had 1 other relatives with him aboard.'"
      ]
     },
     "execution_count": 225,
     "metadata": {},
     "output_type": "execute_result"
    }
   ],
   "source": [
    "titanic[\"obituary\"][0]"
   ]
  },
  {
   "cell_type": "code",
   "execution_count": 227,
   "id": "e01d925e-c46e-4d16-b409-38b36344d634",
   "metadata": {},
   "outputs": [
    {
     "data": {
      "text/html": [
       "<div>\n",
       "<style scoped>\n",
       "    .dataframe tbody tr th:only-of-type {\n",
       "        vertical-align: middle;\n",
       "    }\n",
       "\n",
       "    .dataframe tbody tr th {\n",
       "        vertical-align: top;\n",
       "    }\n",
       "\n",
       "    .dataframe thead th {\n",
       "        text-align: right;\n",
       "    }\n",
       "</style>\n",
       "<table border=\"1\" class=\"dataframe\">\n",
       "  <thead>\n",
       "    <tr style=\"text-align: right;\">\n",
       "      <th></th>\n",
       "      <th>PassengerId</th>\n",
       "      <th>Survived</th>\n",
       "      <th>Pclass</th>\n",
       "      <th>Name</th>\n",
       "      <th>Sex</th>\n",
       "      <th>Age</th>\n",
       "      <th>SibSp</th>\n",
       "      <th>Parch</th>\n",
       "      <th>Ticket</th>\n",
       "      <th>Fare</th>\n",
       "      <th>Cabin</th>\n",
       "      <th>Embarked</th>\n",
       "      <th>has_relatives</th>\n",
       "      <th>last_names</th>\n",
       "      <th>obituary</th>\n",
       "    </tr>\n",
       "  </thead>\n",
       "  <tbody>\n",
       "    <tr>\n",
       "      <th>0</th>\n",
       "      <td>1</td>\n",
       "      <td>0</td>\n",
       "      <td>3</td>\n",
       "      <td>Braund, Mr. Owen Harris</td>\n",
       "      <td>male</td>\n",
       "      <td>22.0</td>\n",
       "      <td>1</td>\n",
       "      <td>0</td>\n",
       "      <td>A/5 21171</td>\n",
       "      <td>7.2500</td>\n",
       "      <td>NaN</td>\n",
       "      <td>S</td>\n",
       "      <td>True</td>\n",
       "      <td>Braund,</td>\n",
       "      <td>Braund, Mr. Owen Harris was a 22.0 year old ma...</td>\n",
       "    </tr>\n",
       "    <tr>\n",
       "      <th>4</th>\n",
       "      <td>5</td>\n",
       "      <td>0</td>\n",
       "      <td>3</td>\n",
       "      <td>Allen, Mr. William Henry</td>\n",
       "      <td>male</td>\n",
       "      <td>35.0</td>\n",
       "      <td>0</td>\n",
       "      <td>0</td>\n",
       "      <td>373450</td>\n",
       "      <td>8.0500</td>\n",
       "      <td>NaN</td>\n",
       "      <td>S</td>\n",
       "      <td>False</td>\n",
       "      <td>Allen,</td>\n",
       "      <td>Allen, Mr. William Henry was a 35.0 year old m...</td>\n",
       "    </tr>\n",
       "    <tr>\n",
       "      <th>5</th>\n",
       "      <td>6</td>\n",
       "      <td>0</td>\n",
       "      <td>3</td>\n",
       "      <td>Moran, Mr. James</td>\n",
       "      <td>male</td>\n",
       "      <td>NaN</td>\n",
       "      <td>0</td>\n",
       "      <td>0</td>\n",
       "      <td>330877</td>\n",
       "      <td>8.4583</td>\n",
       "      <td>NaN</td>\n",
       "      <td>Q</td>\n",
       "      <td>False</td>\n",
       "      <td>Moran,</td>\n",
       "      <td>Moran, Mr. James was a nan year old man who pe...</td>\n",
       "    </tr>\n",
       "    <tr>\n",
       "      <th>6</th>\n",
       "      <td>7</td>\n",
       "      <td>0</td>\n",
       "      <td>1</td>\n",
       "      <td>McCarthy, Mr. Timothy J</td>\n",
       "      <td>male</td>\n",
       "      <td>54.0</td>\n",
       "      <td>0</td>\n",
       "      <td>0</td>\n",
       "      <td>17463</td>\n",
       "      <td>51.8625</td>\n",
       "      <td>E46</td>\n",
       "      <td>S</td>\n",
       "      <td>False</td>\n",
       "      <td>McCarthy,</td>\n",
       "      <td>McCarthy, Mr. Timothy J was a 54.0 year old ma...</td>\n",
       "    </tr>\n",
       "    <tr>\n",
       "      <th>7</th>\n",
       "      <td>8</td>\n",
       "      <td>0</td>\n",
       "      <td>3</td>\n",
       "      <td>Palsson, Master. Gosta Leonard</td>\n",
       "      <td>male</td>\n",
       "      <td>2.0</td>\n",
       "      <td>3</td>\n",
       "      <td>1</td>\n",
       "      <td>349909</td>\n",
       "      <td>21.0750</td>\n",
       "      <td>NaN</td>\n",
       "      <td>S</td>\n",
       "      <td>True</td>\n",
       "      <td>Palsson,</td>\n",
       "      <td>Palsson, Master. Gosta Leonard was a 2.0 year ...</td>\n",
       "    </tr>\n",
       "    <tr>\n",
       "      <th>...</th>\n",
       "      <td>...</td>\n",
       "      <td>...</td>\n",
       "      <td>...</td>\n",
       "      <td>...</td>\n",
       "      <td>...</td>\n",
       "      <td>...</td>\n",
       "      <td>...</td>\n",
       "      <td>...</td>\n",
       "      <td>...</td>\n",
       "      <td>...</td>\n",
       "      <td>...</td>\n",
       "      <td>...</td>\n",
       "      <td>...</td>\n",
       "      <td>...</td>\n",
       "      <td>...</td>\n",
       "    </tr>\n",
       "    <tr>\n",
       "      <th>884</th>\n",
       "      <td>885</td>\n",
       "      <td>0</td>\n",
       "      <td>3</td>\n",
       "      <td>Sutehall, Mr. Henry Jr</td>\n",
       "      <td>male</td>\n",
       "      <td>25.0</td>\n",
       "      <td>0</td>\n",
       "      <td>0</td>\n",
       "      <td>SOTON/OQ 392076</td>\n",
       "      <td>7.0500</td>\n",
       "      <td>NaN</td>\n",
       "      <td>S</td>\n",
       "      <td>False</td>\n",
       "      <td>Sutehall,</td>\n",
       "      <td>Sutehall, Mr. Henry Jr was a 25.0 year old man...</td>\n",
       "    </tr>\n",
       "    <tr>\n",
       "      <th>885</th>\n",
       "      <td>886</td>\n",
       "      <td>0</td>\n",
       "      <td>3</td>\n",
       "      <td>Rice, Mrs. William (Margaret Norton)</td>\n",
       "      <td>female</td>\n",
       "      <td>39.0</td>\n",
       "      <td>0</td>\n",
       "      <td>5</td>\n",
       "      <td>382652</td>\n",
       "      <td>29.1250</td>\n",
       "      <td>NaN</td>\n",
       "      <td>Q</td>\n",
       "      <td>True</td>\n",
       "      <td>Rice,</td>\n",
       "      <td>Rice, Mrs. William (Margaret Norton) was a 39....</td>\n",
       "    </tr>\n",
       "    <tr>\n",
       "      <th>886</th>\n",
       "      <td>887</td>\n",
       "      <td>0</td>\n",
       "      <td>2</td>\n",
       "      <td>Montvila, Rev. Juozas</td>\n",
       "      <td>male</td>\n",
       "      <td>27.0</td>\n",
       "      <td>0</td>\n",
       "      <td>0</td>\n",
       "      <td>211536</td>\n",
       "      <td>13.0000</td>\n",
       "      <td>NaN</td>\n",
       "      <td>S</td>\n",
       "      <td>False</td>\n",
       "      <td>Montvila,</td>\n",
       "      <td>Montvila, Rev. Juozas was a 27.0 year old man ...</td>\n",
       "    </tr>\n",
       "    <tr>\n",
       "      <th>888</th>\n",
       "      <td>889</td>\n",
       "      <td>0</td>\n",
       "      <td>3</td>\n",
       "      <td>Johnston, Miss. Catherine Helen \"Carrie\"</td>\n",
       "      <td>female</td>\n",
       "      <td>NaN</td>\n",
       "      <td>1</td>\n",
       "      <td>2</td>\n",
       "      <td>W./C. 6607</td>\n",
       "      <td>23.4500</td>\n",
       "      <td>NaN</td>\n",
       "      <td>S</td>\n",
       "      <td>True</td>\n",
       "      <td>Johnston,</td>\n",
       "      <td>Johnston, Miss. Catherine Helen \"Carrie\" was a...</td>\n",
       "    </tr>\n",
       "    <tr>\n",
       "      <th>890</th>\n",
       "      <td>891</td>\n",
       "      <td>0</td>\n",
       "      <td>3</td>\n",
       "      <td>Dooley, Mr. Patrick</td>\n",
       "      <td>male</td>\n",
       "      <td>32.0</td>\n",
       "      <td>0</td>\n",
       "      <td>0</td>\n",
       "      <td>370376</td>\n",
       "      <td>7.7500</td>\n",
       "      <td>NaN</td>\n",
       "      <td>Q</td>\n",
       "      <td>False</td>\n",
       "      <td>Dooley,</td>\n",
       "      <td>Dooley, Mr. Patrick was a 32.0 year old man wh...</td>\n",
       "    </tr>\n",
       "  </tbody>\n",
       "</table>\n",
       "<p>549 rows × 15 columns</p>\n",
       "</div>"
      ],
      "text/plain": [
       "     PassengerId  Survived  Pclass                                      Name  \\\n",
       "0              1         0       3                   Braund, Mr. Owen Harris   \n",
       "4              5         0       3                  Allen, Mr. William Henry   \n",
       "5              6         0       3                          Moran, Mr. James   \n",
       "6              7         0       1                   McCarthy, Mr. Timothy J   \n",
       "7              8         0       3            Palsson, Master. Gosta Leonard   \n",
       "..           ...       ...     ...                                       ...   \n",
       "884          885         0       3                    Sutehall, Mr. Henry Jr   \n",
       "885          886         0       3      Rice, Mrs. William (Margaret Norton)   \n",
       "886          887         0       2                     Montvila, Rev. Juozas   \n",
       "888          889         0       3  Johnston, Miss. Catherine Helen \"Carrie\"   \n",
       "890          891         0       3                       Dooley, Mr. Patrick   \n",
       "\n",
       "        Sex   Age  SibSp  Parch           Ticket     Fare Cabin Embarked  \\\n",
       "0      male  22.0      1      0        A/5 21171   7.2500   NaN        S   \n",
       "4      male  35.0      0      0           373450   8.0500   NaN        S   \n",
       "5      male   NaN      0      0           330877   8.4583   NaN        Q   \n",
       "6      male  54.0      0      0            17463  51.8625   E46        S   \n",
       "7      male   2.0      3      1           349909  21.0750   NaN        S   \n",
       "..      ...   ...    ...    ...              ...      ...   ...      ...   \n",
       "884    male  25.0      0      0  SOTON/OQ 392076   7.0500   NaN        S   \n",
       "885  female  39.0      0      5           382652  29.1250   NaN        Q   \n",
       "886    male  27.0      0      0           211536  13.0000   NaN        S   \n",
       "888  female   NaN      1      2       W./C. 6607  23.4500   NaN        S   \n",
       "890    male  32.0      0      0           370376   7.7500   NaN        Q   \n",
       "\n",
       "     has_relatives last_names  \\\n",
       "0             True    Braund,   \n",
       "4            False     Allen,   \n",
       "5            False     Moran,   \n",
       "6            False  McCarthy,   \n",
       "7             True   Palsson,   \n",
       "..             ...        ...   \n",
       "884          False  Sutehall,   \n",
       "885           True      Rice,   \n",
       "886          False  Montvila,   \n",
       "888           True  Johnston,   \n",
       "890          False    Dooley,   \n",
       "\n",
       "                                              obituary  \n",
       "0    Braund, Mr. Owen Harris was a 22.0 year old ma...  \n",
       "4    Allen, Mr. William Henry was a 35.0 year old m...  \n",
       "5    Moran, Mr. James was a nan year old man who pe...  \n",
       "6    McCarthy, Mr. Timothy J was a 54.0 year old ma...  \n",
       "7    Palsson, Master. Gosta Leonard was a 2.0 year ...  \n",
       "..                                                 ...  \n",
       "884  Sutehall, Mr. Henry Jr was a 25.0 year old man...  \n",
       "885  Rice, Mrs. William (Margaret Norton) was a 39....  \n",
       "886  Montvila, Rev. Juozas was a 27.0 year old man ...  \n",
       "888  Johnston, Miss. Catherine Helen \"Carrie\" was a...  \n",
       "890  Dooley, Mr. Patrick was a 32.0 year old man wh...  \n",
       "\n",
       "[549 rows x 15 columns]"
      ]
     },
     "execution_count": 227,
     "metadata": {},
     "output_type": "execute_result"
    }
   ],
   "source": [
    "titanic[~pd.isna(titanic[\"obituary\"])]"
   ]
  },
  {
   "cell_type": "code",
   "execution_count": 170,
   "id": "279ff562-69cb-43c3-8be4-5798f7343fa8",
   "metadata": {},
   "outputs": [
    {
     "data": {
      "text/plain": [
       "<pandas.core.groupby.generic.DataFrameGroupBy object at 0x7f848e2e8880>"
      ]
     },
     "execution_count": 170,
     "metadata": {},
     "output_type": "execute_result"
    }
   ],
   "source": [
    "class_grouped=titanic.groupby([\"Pclass\", \"Survived\"])\n",
    "class_grouped"
   ]
  },
  {
   "cell_type": "code",
   "execution_count": 172,
   "id": "4e0635ea-e7d1-4651-bde4-d0ce59f8747e",
   "metadata": {},
   "outputs": [
    {
     "name": "stdout",
     "output_type": "stream",
     "text": [
      "45.25\n",
      "35.0\n",
      "30.5\n",
      "28.0\n",
      "25.0\n",
      "22.0\n"
     ]
    }
   ],
   "source": [
    "for name, group in class_grouped:\n",
    "    print(group[\"Age\"].median())"
   ]
  },
  {
   "cell_type": "code",
   "execution_count": 179,
   "id": "ac707e45-5eba-4205-8d8e-e89495831212",
   "metadata": {},
   "outputs": [
    {
     "data": {
      "text/html": [
       "<div>\n",
       "<style scoped>\n",
       "    .dataframe tbody tr th:only-of-type {\n",
       "        vertical-align: middle;\n",
       "    }\n",
       "\n",
       "    .dataframe tbody tr th {\n",
       "        vertical-align: top;\n",
       "    }\n",
       "\n",
       "    .dataframe thead th {\n",
       "        text-align: right;\n",
       "    }\n",
       "</style>\n",
       "<table border=\"1\" class=\"dataframe\">\n",
       "  <thead>\n",
       "    <tr style=\"text-align: right;\">\n",
       "      <th></th>\n",
       "      <th>class</th>\n",
       "      <th>survived</th>\n",
       "      <th>mean_age</th>\n",
       "    </tr>\n",
       "  </thead>\n",
       "  <tbody>\n",
       "    <tr>\n",
       "      <th>0</th>\n",
       "      <td>1</td>\n",
       "      <td>0</td>\n",
       "      <td>43.695312</td>\n",
       "    </tr>\n",
       "    <tr>\n",
       "      <th>1</th>\n",
       "      <td>1</td>\n",
       "      <td>1</td>\n",
       "      <td>35.368197</td>\n",
       "    </tr>\n",
       "    <tr>\n",
       "      <th>2</th>\n",
       "      <td>2</td>\n",
       "      <td>0</td>\n",
       "      <td>33.544444</td>\n",
       "    </tr>\n",
       "    <tr>\n",
       "      <th>3</th>\n",
       "      <td>2</td>\n",
       "      <td>1</td>\n",
       "      <td>25.901566</td>\n",
       "    </tr>\n",
       "    <tr>\n",
       "      <th>4</th>\n",
       "      <td>3</td>\n",
       "      <td>0</td>\n",
       "      <td>26.555556</td>\n",
       "    </tr>\n",
       "    <tr>\n",
       "      <th>5</th>\n",
       "      <td>3</td>\n",
       "      <td>1</td>\n",
       "      <td>20.646118</td>\n",
       "    </tr>\n",
       "  </tbody>\n",
       "</table>\n",
       "</div>"
      ],
      "text/plain": [
       "   class  survived   mean_age\n",
       "0      1         0  43.695312\n",
       "1      1         1  35.368197\n",
       "2      2         0  33.544444\n",
       "3      2         1  25.901566\n",
       "4      3         0  26.555556\n",
       "5      3         1  20.646118"
      ]
     },
     "execution_count": 179,
     "metadata": {},
     "output_type": "execute_result"
    }
   ],
   "source": [
    "dict_list=[]\n",
    "for name, group in class_grouped:\n",
    "    data={\"class\":name[0], \n",
    "         \"survived\":name[1],\n",
    "         \"mean_age\":group[\"Age\"].mean()}\n",
    "    dict_list.append(data)\n",
    "    \n",
    "pd.DataFrame(dict_list)"
   ]
  },
  {
   "cell_type": "markdown",
   "id": "62cf56f9-89b0-4b86-839f-09157ace2890",
   "metadata": {},
   "source": [
    "Excercise: mean Age for each male and female passengers for each embarking port (`Embarked` column) "
   ]
  },
  {
   "cell_type": "markdown",
   "id": "53a28ca5-097b-49d8-a521-0877e3dbcd69",
   "metadata": {},
   "source": [
    "## Data visualization with Seaborn\n",
    "\n",
    "Seaborn is not the most powerful data visualization package, yet it can accomplish amazing simple plots with minimal code. There are various built-in chart types you can select from. If you need a more powerful plotting library that can do anything from custom simple plot to sophisticated animated charts checkout matplotlib. However with this flexibliity comes complexity. Matplotlib is not easy to use. "
   ]
  },
  {
   "cell_type": "code",
   "execution_count": 184,
   "id": "665883d0-0c89-47cf-ad6f-5a6ccca350fb",
   "metadata": {},
   "outputs": [],
   "source": [
    "import seaborn as sns"
   ]
  },
  {
   "cell_type": "code",
   "execution_count": 186,
   "id": "06a54637-faad-4d66-a764-2d6a50648af3",
   "metadata": {},
   "outputs": [
    {
     "data": {
      "text/plain": [
       "<AxesSubplot: xlabel='Age', ylabel='Fare'>"
      ]
     },
     "execution_count": 186,
     "metadata": {},
     "output_type": "execute_result"
    },
    {
     "data": {
      "image/png": "[encoded data removed]",
      "text/plain": [
       "<Figure size 640x480 with 1 Axes>"
      ]
     },
     "metadata": {},
     "output_type": "display_data"
    }
   ],
   "source": [
    "sns.scatterplot(x=\"Age\", y=\"Fare\", hue=\"Pclass\", data=titanic)"
   ]
  },
  {
   "cell_type": "code",
   "execution_count": 188,
   "id": "16609386-c506-42fe-9c4c-3b1484d24608",
   "metadata": {},
   "outputs": [
    {
     "data": {
      "text/plain": [
       "<AxesSubplot: xlabel='Pclass', ylabel='Fare'>"
      ]
     },
     "execution_count": 188,
     "metadata": {},
     "output_type": "execute_result"
    },
    {
     "data": {
      "image/png": "[encoded data removed]",
      "text/plain": [
       "<Figure size 640x480 with 1 Axes>"
      ]
     },
     "metadata": {},
     "output_type": "display_data"
    }
   ],
   "source": [
    "sns.boxplot(x=\"Pclass\", y=\"Fare\", hue=\"Survived\", data=titanic)"
   ]
  },
  {
   "cell_type": "markdown",
   "id": "63ff4220-cd6a-49ad-973e-c8d7e55dcd95",
   "metadata": {},
   "source": [
    "Excercise: visualize Age distibution of females and males per embarking port using a violin plot `sns.violinplot`"
   ]
  },
  {
   "cell_type": "markdown",
   "id": "fdb6a8b4-0ae3-43e5-8f4b-a1aaa5af41b3",
   "metadata": {},
   "source": [
    "How to take advantage of package documentation:"
   ]
  },
  {
   "cell_type": "markdown",
   "id": "526fb26d-7254-4c2b-bd30-858dea8289a7",
   "metadata": {},
   "source": [
    "## More sophisticated scientific tools with scipy, scikit-learn and other scikits"
   ]
  },
  {
   "cell_type": "markdown",
   "id": "33df682b-6a89-4272-a293-e778986579b5",
   "metadata": {},
   "source": [
    "# Writing our own python modules"
   ]
  },
  {
   "cell_type": "code",
   "execution_count": null,
   "id": "e2dac8e1",
   "metadata": {},
   "outputs": [],
   "source": [
    "def rps(move, outcome, plays=classic):\n",
    "    if move not in plays.keys():\n",
    "        outcome=\"{} is not a valid move\"\n",
    "    else:\n",
    "        outcome plays[move][outcome]\n",
    "    return outcome"
   ]
  },
  {
   "cell_type": "markdown",
   "id": "24b2f4b2-2e1a-4995-af95-98c5f0449182",
   "metadata": {},
   "source": [
    "# Writing python scripts with argparse"
   ]
  },
  {
   "cell_type": "code",
   "execution_count": null,
   "id": "f76363c7",
   "metadata": {},
   "outputs": [],
   "source": [
    "import argparse\n",
    "\n",
    "parser=argparse.ArgumentParser(description=\"play rock paper scissors\")\n",
    "parser.add_argument('-p', '--play', default=\"rock\", help=\"what to play\")\n",
    "parser.add_argument('-o', '--outcome', default=\"rock\", help=\"outcome\")\n",
    "args=parser.parse_args()\n",
    "\n",
    "\n",
    "classic={\"rock\":{\"win\":\"scissors\", \"draw\":\"rock\", \"lose\":\"paper\"},\n",
    "      \"paper\":{\"win\":\"rock\", \"draw\":\"paper\", \"lose\":\"scissors\"},\n",
    "      \"scissors\":{\"win\":\"paper\", \"draw\":\"scissors\", \"lose\":\"rock\"}\n",
    "      }\n",
    "\n",
    "\n",
    "def rps(move, outcome, plays=classic):\n",
    "    if move not in plays.keys():\n",
    "        outcome=\"{} is not a valid move\"\n",
    "    else:\n",
    "        outcome plays[move][outcome]\n",
    "    return outcome\n",
    "    \n",
    "outcome=rps(args.play, args.outcome)\n",
    "print(outcome)"
   ]
  }
 ],
 "metadata": {
  "kernelspec": {
   "display_name": "Python 3 (ipykernel)",
   "language": "python",
   "name": "python3"
  },
  "language_info": {
   "codemirror_mode": {
    "name": "ipython",
    "version": 3
   },
   "file_extension": ".py",
   "mimetype": "text/x-python",
   "name": "python",
   "nbconvert_exporter": "python",
   "pygments_lexer": "ipython3",
   "version": "3.10.17"
  }
 },
 "nbformat": 4,
 "nbformat_minor": 5
}
