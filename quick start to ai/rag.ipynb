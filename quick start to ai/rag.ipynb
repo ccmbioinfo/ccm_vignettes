{
 "cells": [
  {
   "attachments": {},
   "cell_type": "markdown",
   "id": "8428c65b-36f7-4aa7-a82f-0159bcb952da",
   "metadata": {},
   "source": [
    "# RAG tutorial\n",
    "\n",
    "Rag stands for *Retrieval Augmented Generation* the idea is to provide the LLM with some context to aid it generate better results. There are many ways one can set up rag. There are a lot of commercial and semi-commercial tools one can use. We will explore some basic elements of RAG and generate some of the componenets. We will **not** generate a fully functioning RAG as there are many componenets to it and we might not have time. I will introduce some of the tools that one can use while building a rag system. \n",
    "Oveall the general architecture would look something like this. \n",
    "\n",
    "\n",
    "<div>\n",
    "<img src=\"https://huggingface.co/datasets/huggingface/cookbook-images/resolve/main/RAG_workflow.png\" width=\"600\"/>\n",
    "</div>\n",
    "\n",
    "## Knowledge Base\n",
    "\n",
    "This is very context dependent, but basically something you curate before you even think about building a RAG. I would think that it's the other way around that is you will have a knowledge base already and you thinkg RAG would be a good way to use it. \n",
    "\n",
    "There are couple of things we would need to do make sure that our knowledge base is useful. \n",
    "\n",
    "1. Process the documents this involves:\n",
    "    +  Getting the documents in a format that is machine readable,\n",
    "    +  Chunking large documents into smaller bits and pieces so we do not run out of context length\n",
    "    +  embedding the text, (we will need to pick an embedding model that is suitable for this task)\n",
    "    +  Store it in a place that is searchable"
   ]
  },
  {
   "cell_type": "markdown",
   "id": "f96c74ec-6f93-484f-9dc4-1612d4f6082d",
   "metadata": {},
   "source": [
    "Because we have limited time I will be using a simple dataset, the yelp review dataset. This is already in a machine readable format so we don't really need to do anything other than load it. There are a few different kinds of datasets, I will just be using the business one since it is smaller and quicker to load. "
   ]
  },
  {
   "cell_type": "code",
   "execution_count": 1,
   "id": "10fe0ef0-4ebb-4cb5-a676-e1d0a2321be2",
   "metadata": {},
   "outputs": [],
   "source": [
    "import os\n",
    "import json\n",
    "with open(\"yelp_reviews.json\") as data:\n",
    "    reviews=data.read()"
   ]
  },
  {
   "cell_type": "code",
   "execution_count": 2,
   "id": "dea25b27-f99d-4a82-9079-df63ade903f3",
   "metadata": {},
   "outputs": [],
   "source": [
    "reviews=reviews.split(\"\\n\")"
   ]
  },
  {
   "cell_type": "code",
   "execution_count": 3,
   "id": "ac862272-778d-4b96-ad06-9e6bed52c4e3",
   "metadata": {},
   "outputs": [
    {
     "data": {
      "text/plain": [
       "''"
      ]
     },
     "execution_count": 3,
     "metadata": {},
     "output_type": "execute_result"
    }
   ],
   "source": [
    "reviews[len(reviews)-1]"
   ]
  },
  {
   "cell_type": "code",
   "execution_count": 4,
   "id": "d0d6ce1d-dfa5-427c-98ab-63292b0ac6e3",
   "metadata": {},
   "outputs": [],
   "source": [
    "reviews=[json.loads(item) for item in reviews if len(item)>0]"
   ]
  },
  {
   "cell_type": "code",
   "execution_count": 5,
   "id": "ee1eee2c-1487-4318-badc-66f0ec3e8887",
   "metadata": {},
   "outputs": [],
   "source": [
    "import pandas as pd\n",
    "reviews=pd.DataFrame.from_records(reviews)"
   ]
  },
  {
   "cell_type": "code",
   "execution_count": 6,
   "id": "af44fb80-3128-4471-8fcd-1c86443a67ed",
   "metadata": {},
   "outputs": [
    {
     "data": {
      "text/html": [
       "<div>\n",
       "<style scoped>\n",
       "    .dataframe tbody tr th:only-of-type {\n",
       "        vertical-align: middle;\n",
       "    }\n",
       "\n",
       "    .dataframe tbody tr th {\n",
       "        vertical-align: top;\n",
       "    }\n",
       "\n",
       "    .dataframe thead th {\n",
       "        text-align: right;\n",
       "    }\n",
       "</style>\n",
       "<table border=\"1\" class=\"dataframe\">\n",
       "  <thead>\n",
       "    <tr style=\"text-align: right;\">\n",
       "      <th></th>\n",
       "      <th>review_id</th>\n",
       "      <th>user_id</th>\n",
       "      <th>business_id</th>\n",
       "      <th>stars</th>\n",
       "      <th>useful</th>\n",
       "      <th>funny</th>\n",
       "      <th>cool</th>\n",
       "      <th>text</th>\n",
       "      <th>date</th>\n",
       "    </tr>\n",
       "  </thead>\n",
       "  <tbody>\n",
       "    <tr>\n",
       "      <th>0</th>\n",
       "      <td>KU_O5udG6zpxOg-VcAEodg</td>\n",
       "      <td>mh_-eMZ6K5RLWhZyISBhwA</td>\n",
       "      <td>XQfwVwDr-v0ZS3_CbbE5Xw</td>\n",
       "      <td>3.0</td>\n",
       "      <td>0</td>\n",
       "      <td>0</td>\n",
       "      <td>0</td>\n",
       "      <td>If you decide to eat here, just be aware it is...</td>\n",
       "      <td>2018-07-07 22:09:11</td>\n",
       "    </tr>\n",
       "    <tr>\n",
       "      <th>1</th>\n",
       "      <td>BiTunyQ73aT9WBnpR9DZGw</td>\n",
       "      <td>OyoGAe7OKpv6SyGZT5g77Q</td>\n",
       "      <td>7ATYjTIgM3jUlt4UM3IypQ</td>\n",
       "      <td>5.0</td>\n",
       "      <td>1</td>\n",
       "      <td>0</td>\n",
       "      <td>1</td>\n",
       "      <td>I've taken a lot of spin classes over the year...</td>\n",
       "      <td>2012-01-03 15:28:18</td>\n",
       "    </tr>\n",
       "    <tr>\n",
       "      <th>2</th>\n",
       "      <td>saUsX_uimxRlCVr67Z4Jig</td>\n",
       "      <td>8g_iMtfSiwikVnbP2etR0A</td>\n",
       "      <td>YjUWPpI6HXG530lwP-fb2A</td>\n",
       "      <td>3.0</td>\n",
       "      <td>0</td>\n",
       "      <td>0</td>\n",
       "      <td>0</td>\n",
       "      <td>Family diner. Had the buffet. Eclectic assortm...</td>\n",
       "      <td>2014-02-05 20:30:30</td>\n",
       "    </tr>\n",
       "    <tr>\n",
       "      <th>3</th>\n",
       "      <td>AqPFMleE6RsU23_auESxiA</td>\n",
       "      <td>_7bHUi9Uuf5__HHc_Q8guQ</td>\n",
       "      <td>kxX2SOes4o-D3ZQBkiMRfA</td>\n",
       "      <td>5.0</td>\n",
       "      <td>1</td>\n",
       "      <td>0</td>\n",
       "      <td>1</td>\n",
       "      <td>Wow!  Yummy, different,  delicious.   Our favo...</td>\n",
       "      <td>2015-01-04 00:01:03</td>\n",
       "    </tr>\n",
       "    <tr>\n",
       "      <th>4</th>\n",
       "      <td>Sx8TMOWLNuJBWer-0pcmoA</td>\n",
       "      <td>bcjbaE6dDog4jkNY91ncLQ</td>\n",
       "      <td>e4Vwtrqf-wpJfwesgvdgxQ</td>\n",
       "      <td>4.0</td>\n",
       "      <td>1</td>\n",
       "      <td>0</td>\n",
       "      <td>1</td>\n",
       "      <td>Cute interior and owner (?) gave us tour of up...</td>\n",
       "      <td>2017-01-14 20:54:15</td>\n",
       "    </tr>\n",
       "    <tr>\n",
       "      <th>...</th>\n",
       "      <td>...</td>\n",
       "      <td>...</td>\n",
       "      <td>...</td>\n",
       "      <td>...</td>\n",
       "      <td>...</td>\n",
       "      <td>...</td>\n",
       "      <td>...</td>\n",
       "      <td>...</td>\n",
       "      <td>...</td>\n",
       "    </tr>\n",
       "    <tr>\n",
       "      <th>995</th>\n",
       "      <td>XMWg7adwVBKqIl_e_TTtuA</td>\n",
       "      <td>syyKcKPFILDysHWmtka-aA</td>\n",
       "      <td>1_hDCN3iioFR3XnUr32ZtA</td>\n",
       "      <td>5.0</td>\n",
       "      <td>0</td>\n",
       "      <td>0</td>\n",
       "      <td>0</td>\n",
       "      <td>I Recently vacationed in St. Petersburg with m...</td>\n",
       "      <td>2014-06-28 03:00:56</td>\n",
       "    </tr>\n",
       "    <tr>\n",
       "      <th>996</th>\n",
       "      <td>BGZ3GtcXhtIEPIkyLVuKDQ</td>\n",
       "      <td>_lgLNzpzf3qmbwySBakxEw</td>\n",
       "      <td>5RzJ2bjU8bLSaN5SuiUpYA</td>\n",
       "      <td>4.0</td>\n",
       "      <td>1</td>\n",
       "      <td>0</td>\n",
       "      <td>1</td>\n",
       "      <td>Very cool bar attached to the Alexander Hotel....</td>\n",
       "      <td>2016-01-17 16:45:19</td>\n",
       "    </tr>\n",
       "    <tr>\n",
       "      <th>997</th>\n",
       "      <td>lm7Q8pH26kqx1gbjCJ16ZQ</td>\n",
       "      <td>Sh_vUlHHY2Kuj14eF8NYZQ</td>\n",
       "      <td>s1PNBO9o5jIgNd5YWUDLXQ</td>\n",
       "      <td>5.0</td>\n",
       "      <td>1</td>\n",
       "      <td>0</td>\n",
       "      <td>0</td>\n",
       "      <td>This hotel is a gem in the heart of Philadelph...</td>\n",
       "      <td>2016-02-23 21:31:39</td>\n",
       "    </tr>\n",
       "    <tr>\n",
       "      <th>998</th>\n",
       "      <td>Lo2giVeSNDvatEAGZRikWQ</td>\n",
       "      <td>YwMD-AVT67fmYRGxnlRSPA</td>\n",
       "      <td>alUk6OwNhofyc90NDMDY-Q</td>\n",
       "      <td>5.0</td>\n",
       "      <td>7</td>\n",
       "      <td>1</td>\n",
       "      <td>0</td>\n",
       "      <td>Was taken here today by a Colombian friend who...</td>\n",
       "      <td>2010-08-22 01:54:23</td>\n",
       "    </tr>\n",
       "    <tr>\n",
       "      <th>999</th>\n",
       "      <td>HBCwI0ahXuni3x030HGKFA</td>\n",
       "      <td>WKe2b_EeLBnZ3lZV5WKYGQ</td>\n",
       "      <td>-Or44IdY51Ukd618kikmtA</td>\n",
       "      <td>4.0</td>\n",
       "      <td>0</td>\n",
       "      <td>0</td>\n",
       "      <td>0</td>\n",
       "      <td>My friends and I all got one of each that were...</td>\n",
       "      <td>2016-07-25 06:28:49</td>\n",
       "    </tr>\n",
       "  </tbody>\n",
       "</table>\n",
       "<p>1000 rows × 9 columns</p>\n",
       "</div>"
      ],
      "text/plain": [
       "                  review_id                 user_id             business_id  \\\n",
       "0    KU_O5udG6zpxOg-VcAEodg  mh_-eMZ6K5RLWhZyISBhwA  XQfwVwDr-v0ZS3_CbbE5Xw   \n",
       "1    BiTunyQ73aT9WBnpR9DZGw  OyoGAe7OKpv6SyGZT5g77Q  7ATYjTIgM3jUlt4UM3IypQ   \n",
       "2    saUsX_uimxRlCVr67Z4Jig  8g_iMtfSiwikVnbP2etR0A  YjUWPpI6HXG530lwP-fb2A   \n",
       "3    AqPFMleE6RsU23_auESxiA  _7bHUi9Uuf5__HHc_Q8guQ  kxX2SOes4o-D3ZQBkiMRfA   \n",
       "4    Sx8TMOWLNuJBWer-0pcmoA  bcjbaE6dDog4jkNY91ncLQ  e4Vwtrqf-wpJfwesgvdgxQ   \n",
       "..                      ...                     ...                     ...   \n",
       "995  XMWg7adwVBKqIl_e_TTtuA  syyKcKPFILDysHWmtka-aA  1_hDCN3iioFR3XnUr32ZtA   \n",
       "996  BGZ3GtcXhtIEPIkyLVuKDQ  _lgLNzpzf3qmbwySBakxEw  5RzJ2bjU8bLSaN5SuiUpYA   \n",
       "997  lm7Q8pH26kqx1gbjCJ16ZQ  Sh_vUlHHY2Kuj14eF8NYZQ  s1PNBO9o5jIgNd5YWUDLXQ   \n",
       "998  Lo2giVeSNDvatEAGZRikWQ  YwMD-AVT67fmYRGxnlRSPA  alUk6OwNhofyc90NDMDY-Q   \n",
       "999  HBCwI0ahXuni3x030HGKFA  WKe2b_EeLBnZ3lZV5WKYGQ  -Or44IdY51Ukd618kikmtA   \n",
       "\n",
       "     stars  useful  funny  cool  \\\n",
       "0      3.0       0      0     0   \n",
       "1      5.0       1      0     1   \n",
       "2      3.0       0      0     0   \n",
       "3      5.0       1      0     1   \n",
       "4      4.0       1      0     1   \n",
       "..     ...     ...    ...   ...   \n",
       "995    5.0       0      0     0   \n",
       "996    4.0       1      0     1   \n",
       "997    5.0       1      0     0   \n",
       "998    5.0       7      1     0   \n",
       "999    4.0       0      0     0   \n",
       "\n",
       "                                                  text                 date  \n",
       "0    If you decide to eat here, just be aware it is...  2018-07-07 22:09:11  \n",
       "1    I've taken a lot of spin classes over the year...  2012-01-03 15:28:18  \n",
       "2    Family diner. Had the buffet. Eclectic assortm...  2014-02-05 20:30:30  \n",
       "3    Wow!  Yummy, different,  delicious.   Our favo...  2015-01-04 00:01:03  \n",
       "4    Cute interior and owner (?) gave us tour of up...  2017-01-14 20:54:15  \n",
       "..                                                 ...                  ...  \n",
       "995  I Recently vacationed in St. Petersburg with m...  2014-06-28 03:00:56  \n",
       "996  Very cool bar attached to the Alexander Hotel....  2016-01-17 16:45:19  \n",
       "997  This hotel is a gem in the heart of Philadelph...  2016-02-23 21:31:39  \n",
       "998  Was taken here today by a Colombian friend who...  2010-08-22 01:54:23  \n",
       "999  My friends and I all got one of each that were...  2016-07-25 06:28:49  \n",
       "\n",
       "[1000 rows x 9 columns]"
      ]
     },
     "execution_count": 6,
     "metadata": {},
     "output_type": "execute_result"
    }
   ],
   "source": [
    "reviews"
   ]
  },
  {
   "cell_type": "markdown",
   "id": "581919e9-ba47-4c66-a687-e7e4c20e4d26",
   "metadata": {},
   "source": [
    "Ok we have our dataset ready, I am interested in the text portion. I will do a simple check to see how many words are in the dataset so we will know whether we need to chunk them. "
   ]
  },
  {
   "cell_type": "code",
   "execution_count": 7,
   "id": "db267f11-2129-412f-aa64-58ce6a9b7d0f",
   "metadata": {},
   "outputs": [
    {
     "data": {
      "text/plain": [
       "<Axes: >"
      ]
     },
     "execution_count": 7,
     "metadata": {},
     "output_type": "execute_result"
    },
    {
     "data": {
      "image/png": "[encoded data removed]",
      "text/plain": [
       "<Figure size 640x480 with 1 Axes>"
      ]
     },
     "metadata": {},
     "output_type": "display_data"
    }
   ],
   "source": [
    "import seaborn as sns\n",
    "lengths=[len(item.split(\" \")) for item in reviews[\"text\"]]\n",
    "sns.violinplot(lengths)"
   ]
  },
  {
   "cell_type": "markdown",
   "id": "0c201c76-6808-41c1-a929-3a11bf1b7cb7",
   "metadata": {},
   "source": [
    "Some of these are fairly lengthy, we will need to chunk them into pieces. There are many ways to do that. But first let's find an embedding model that we will be using. Since we do not have enough time I will just get a small model. There are also many ways one can encode a model. We can use sentence transformers, transformers itself or other tools like Langchain (we'll talk about that below) or even hosted models commercial and self hosted (like ollama). \n",
    "\n",
    "The mode I will be using is all-MiniLM-L6-v2, it has a context length of 512. So anything above that will need to be chunked. There are many way we can split this based on several factors and that in turn will depend on the kind of input we have. Some options are\n",
    "\n",
    "+ Based on number of words/characters/tokens\n",
    "+ Based on paragraphs for longer texts\n",
    "+ Rule based (spacy, nltk)\n",
    "+ Based on texts for structured input (markdown, xml, html, code-language dependent)\n",
    "+ Semantic based\n",
    "\n",
    "The last one is a little different and may need some explanation. Let's say our context length takes about 50 sentences (10 words per sentence). We take the first 10 sentences or 100 tokens, calculate embeddings and move on to the next one, if there is a large difference in the embedding similiarity then we create a new chunk. This is more time consuming than the rest of the methods and will be very specific to a use case. \n",
    "\n"
   ]
  },
  {
   "cell_type": "code",
   "execution_count": 8,
   "id": "bb5c8dbe-d078-4703-bc34-ec98b83e0903",
   "metadata": {},
   "outputs": [
    {
     "name": "stderr",
     "output_type": "stream",
     "text": [
      "/home/alper/miniconda3/envs/rag/lib/python3.10/site-packages/tqdm/auto.py:21: TqdmWarning: IProgress not found. Please update jupyter and ipywidgets. See https://ipywidgets.readthedocs.io/en/stable/user_install.html\n",
      "  from .autonotebook import tqdm as notebook_tqdm\n"
     ]
    }
   ],
   "source": [
    "# implementing a text splitter using a huggingface tokenizer\n",
    "\n",
    "from transformers import AutoTokenizer, AutoModel\n",
    "tokenizer = AutoTokenizer.from_pretrained('sentence-transformers/all-MiniLM-L6-v2')\n",
    "model = AutoModel.from_pretrained('sentence-transformers/all-MiniLM-L6-v2').to(\"cuda\")\n"
   ]
  },
  {
   "cell_type": "code",
   "execution_count": 9,
   "id": "1ad423b9-a090-4bbc-be9d-ce5da9f36cc0",
   "metadata": {},
   "outputs": [],
   "source": [
    "from langchain_text_splitters import CharacterTextSplitter\n",
    "\n",
    "text_splitter = CharacterTextSplitter.from_huggingface_tokenizer(\n",
    "    tokenizer, chunk_size=350, chunk_overlap=0\n",
    ")\n"
   ]
  },
  {
   "cell_type": "code",
   "execution_count": 10,
   "id": "bef67da0-9ae6-4c0b-8b36-961b6f2050a4",
   "metadata": {},
   "outputs": [
    {
     "name": "stderr",
     "output_type": "stream",
     "text": [
      "Created a chunk of size 429, which is longer than the specified 350\n",
      "Token indices sequence length is longer than the specified maximum sequence length for this model (556 > 512). Running this sequence through the model will result in indexing errors\n",
      "Created a chunk of size 363, which is longer than the specified 350\n"
     ]
    }
   ],
   "source": [
    "splits=[text_splitter.split_text(text) for text in reviews[\"text\"].tolist()]"
   ]
  },
  {
   "cell_type": "code",
   "execution_count": 11,
   "id": "8f963da1-f569-4d9e-b991-2f8e9bdeac4a",
   "metadata": {},
   "outputs": [],
   "source": [
    "splitted=[]\n",
    "for item in splits:\n",
    "    if len(item)==1:\n",
    "        continue\n",
    "    else:\n",
    "        splitted.append(item)\n",
    "        "
   ]
  },
  {
   "cell_type": "code",
   "execution_count": 12,
   "id": "de279951-ed21-441d-abf6-b13b19494673",
   "metadata": {},
   "outputs": [
    {
     "data": {
      "text/plain": [
       "['The only reason I didn\\'t give this restaurant a 5 star rating, is because of one single pretentious waiter. As a 4 night guest at Hotel Palomar, the location of the restaurant is an obvious plus. The first night of my stay, I met a coworker in the restaurant for a cocktail. When we arrived, the host staff were busy and not available, so we just walked in. The restaurant was not too busy, so we just looked at a small table next to the bar and proceeded to take a seat. A waiter came by and I quickly asked if we could have a seat, before sitting down and told him we\\'d only be having cocktails. He stumbled on his reply, and in an irritated/in-convinced tone, told me \"I guess it would be fine\" and basically just kept walking mid sentence. My guest and I brushed it off, and started having a conversation while looking at the drink menu. To make a long story short, he was distant and we both got the \"couldn\\'t be bothered\" vibe from him. When it came to the bill, we asked if it could be split due to company transaction policies, and you would have thought asked him for some inconceivable task. We basically spent the rest of our night and elevator ride to our room in shock of the rudeness we had just experienced.',\n",
       " 'Although that situation left a bad taste in our mouth, and the night before we decided to avoid the restaurant, we decided to grab another cocktail and give this place one more try. After looking around and ensuring \"last nights waiter\" wasn\\'t on shift, we walked over to the bar and started looking over the menu. Instantly, the bartender greeted us with pleasant small talk and made us feel 100% welcome. He asked about our day, recommended cocktails and was a completely genuine person. This guy (I think his name was Ben) is an absolute star! He gave us lessons on Whiskey, described how to make classic cocktails, and was 100% invested in our experience. This is exactly what a bartender at a 4/5 star establishment should be - actually he exceeds that. He was kind, funny, friendly and completely redeemed this restaurant/bar from our terrible experience the night before. \\nI also ordered room service last night from this restaurant, and it was amazing. The bacon wrapped dates and chocolate cake are to die for! Great restaurant and amazing bartender(s). Too bad one bad egg could have spoiled this experience.']"
      ]
     },
     "execution_count": 12,
     "metadata": {},
     "output_type": "execute_result"
    }
   ],
   "source": [
    "#let's look at an example\n",
    "splitted[0]"
   ]
  },
  {
   "cell_type": "markdown",
   "id": "4b0b9819-4364-476b-8e09-99744632b67a",
   "metadata": {},
   "source": [
    "Ok now it's time to create embeddings, keep in mind that we have a list of lists but we are not going to keep it that way for today, it will just be a list of embeddings. There are other methods that I will mention might keep the overall structure of the notes and we can retrieve the n closest text even if one of the chunks are in the top n. If we are using sentence transformers the package generates the mean pooling for us but for practice reasons we will write our own. "
   ]
  },
  {
   "cell_type": "code",
   "execution_count": 13,
   "id": "1c9ee8f3-c997-4f54-ab99-c606e4ac1a2e",
   "metadata": {},
   "outputs": [],
   "source": [
    "def mean_pooling(model_output, attention_mask):\n",
    "    token_embeddings = model_output[0] #First element of model_output contains all token embeddings\n",
    "    input_mask_expanded = attention_mask.unsqueeze(-1).expand(token_embeddings.size()).float()\n",
    "    return torch.sum(token_embeddings * input_mask_expanded, 1) / torch.clamp(input_mask_expanded.sum(1), min=1e-9)"
   ]
  },
  {
   "cell_type": "code",
   "execution_count": 14,
   "id": "66b4b910-8f2a-4206-8959-e4d8392bbf6f",
   "metadata": {},
   "outputs": [],
   "source": [
    "# combine all the items in the splits in to a single list\n",
    "combined=[]\n",
    "for item in splits:\n",
    "    for chunk in item:\n",
    "        combined.append(chunk)"
   ]
  },
  {
   "cell_type": "code",
   "execution_count": 15,
   "id": "9f550998-06fe-4d64-86bf-5a3121d2caf4",
   "metadata": {},
   "outputs": [
    {
     "name": "stderr",
     "output_type": "stream",
     "text": [
      "100%|██████████████████████████████████████████████████████████████████████████████████████████████████████████████| 1063/1063 [00:02<00:00, 492.23it/s]\n"
     ]
    }
   ],
   "source": [
    "import torch\n",
    "from tqdm import tqdm\n",
    "\n",
    "embeddings=[]\n",
    "\n",
    "for item in tqdm(combined):\n",
    "    tokenized=tokenizer(item, padding=True, truncation=True, return_tensors=\"pt\").to(\"cuda\")    \n",
    "    with torch.no_grad():\n",
    "        model_output = model(**tokenized)\n",
    "    sentence_embeddings = mean_pooling(model_output, tokenized['attention_mask'])\n",
    "   \n",
    "    embeddings.append(sentence_embeddings)"
   ]
  },
  {
   "cell_type": "code",
   "execution_count": 16,
   "id": "4cfd7194-fdf3-4f45-b523-047371a71032",
   "metadata": {},
   "outputs": [
    {
     "data": {
      "text/plain": [
       "torch.Size([1, 384])"
      ]
     },
     "execution_count": 16,
     "metadata": {},
     "output_type": "execute_result"
    }
   ],
   "source": [
    "embeddings[0].shape"
   ]
  },
  {
   "cell_type": "code",
   "execution_count": 17,
   "id": "0c8883e9-a726-4793-9ba5-6abd138cfd07",
   "metadata": {},
   "outputs": [
    {
     "name": "stderr",
     "output_type": "stream",
     "text": [
      "/tmp/ipykernel_96971/3404784880.py:6: LangChainDeprecationWarning: The class `HuggingFaceEmbeddings` was deprecated in LangChain 0.2.2 and will be removed in 1.0. An updated version of the class exists in the :class:`~langchain-huggingface package and should be used instead. To use it run `pip install -U :class:`~langchain-huggingface` and import as `from :class:`~langchain_huggingface import HuggingFaceEmbeddings``.\n",
      "  embedding_model = HuggingFaceEmbeddings(\n"
     ]
    }
   ],
   "source": [
    "# we can also use LangChain for this\n",
    "\n",
    "from langchain.vectorstores import FAISS\n",
    "from langchain_community.embeddings import HuggingFaceEmbeddings\n",
    "\n",
    "embedding_model = HuggingFaceEmbeddings(\n",
    "    model_name=\"sentence-transformers/all-MiniLM-L6-v2\",\n",
    "    multi_process=True,\n",
    "    model_kwargs={\"device\": \"cuda\"},\n",
    "    encode_kwargs={\"normalize_embeddings\": True},  # Set `True` for cosine similarity\n",
    ")"
   ]
  },
  {
   "cell_type": "code",
   "execution_count": 18,
   "id": "07c7485b-6ccd-44a6-8d6d-91ff6446e426",
   "metadata": {},
   "outputs": [
    {
     "name": "stderr",
     "output_type": "stream",
     "text": [
      "Created a chunk of size 429, which is longer than the specified 350\n",
      "Created a chunk of size 363, which is longer than the specified 350\n"
     ]
    }
   ],
   "source": [
    "from langchain_community.vectorstores.utils import DistanceStrategy\n",
    "\n",
    "# we need to create a new split dataset with metadata for this to work this methods conserves document integrity\n",
    "\n",
    "splits=text_splitter.create_documents(reviews[\"text\"].tolist())"
   ]
  },
  {
   "cell_type": "code",
   "execution_count": 19,
   "id": "a093e175-4399-4e3b-ba0b-d5e6fa128d9e",
   "metadata": {},
   "outputs": [],
   "source": [
    "vector_store = FAISS.from_documents(\n",
    "    splits, embedding_model, distance_strategy=DistanceStrategy.COSINE\n",
    ")"
   ]
  },
  {
   "cell_type": "code",
   "execution_count": 42,
   "id": "9a0fcb9a-13f4-4c54-8fc8-157e34f7c9de",
   "metadata": {},
   "outputs": [],
   "source": [
    "# perform a search for similar documents\n",
    "\n",
    "query=\"Can you write a positivie restaruant review?\""
   ]
  },
  {
   "cell_type": "code",
   "execution_count": 43,
   "id": "2174b77e-c800-4dd2-ad81-57269391f2e0",
   "metadata": {},
   "outputs": [],
   "source": [
    "retrieved_docs = vector_store.similarity_search(query=query, k=5)"
   ]
  },
  {
   "cell_type": "code",
   "execution_count": 44,
   "id": "12083912-65cf-4c3e-98d0-8f79f0e71437",
   "metadata": {},
   "outputs": [
    {
     "data": {
      "text/plain": [
       "[Document(id='50825e83-7c42-4db0-92f1-94c6477f96ce', metadata={}, page_content='I was a little worried about seeing the reviews but everything. Was great! Not long wait time. Staff was nice from walking in the lobby and asking which way to the office, to the office staff.'),\n",
       " Document(id='08368c3d-bb6c-4267-9af3-cefbc3bfc468', metadata={}, page_content=\"I was here a few times before and didn't review. I come here for the food, NOT the service. The establishment is lacking in its service. Their food is always great though! Very delicious for a dive bar.\"),\n",
       " Document(id='c495eac8-a1b6-4585-9354-c5e77e6ea89b', metadata={}, page_content='I really love going to cool, popular restaurants and having a great time, and I hate writing such a negative review, but I had to share my experience, especially for a restaurant that is getting an awful lot of (undeserved) hype.'),\n",
       " Document(id='f9833fa6-d61b-4b28-986f-97569b1ffafa', metadata={}, page_content=\"Not too sure why all the negative reviews. I was in and out within 5 mins. Maybe it was because I wasn't looking for something elaborate, who knows. Anyways, I got exactly what I needed and the employees were courteous. The store was organized, well stocked and clean. Unfortunately for this area however, I don't see them staying in business. So many other places near by closed.\"),\n",
       " Document(id='bb1c7d97-32c3-4112-bbab-48e663ad89ea', metadata={}, page_content=\"In the morning, feel free to partake in a complimentary breakfast (NOT CONTINENTAL)-I mean a real breakfast which changes daily; anything from fresh made waffles to eggs, sausage, and bacon! Also, cold cereal, juices, and coffees have options! Coffee is available 24/7 as well! \\n\\nThe hotel also has a pool and hot tub which I personally observed them clean daily!\\n\\nOn our last night we got back late and I was going to ask the desk for a late check out, but there was no need! Their check out time is 12:00 Pm as opposed to the hotel usual of 11:00 Am. That worked out well for us.\\n\\nAt checkout we were asked if there was anything we would change about the hotel or our stay. I made small suggestions which I thought would help them, but definitely nothing major. The desk person wrote down what I said and said she would pass it on! I was impressed with that, because we've been asked about our stay at other places, but it seemed more out of routine than actual interest. Here, she seemed genuinely interested. We don't usually do reviews, so I'm sorry for the long review. However, we wanted you to get a real feel for this wonderful hotel and hope that you enjoy it as much as we did! Thanks for reading and safe travels. J & Niki.\")]"
      ]
     },
     "execution_count": 44,
     "metadata": {},
     "output_type": "execute_result"
    }
   ],
   "source": [
    "retrieved_docs"
   ]
  },
  {
   "cell_type": "markdown",
   "id": "426f41de-f39c-4f67-8687-42e17161a207",
   "metadata": {},
   "source": [
    "A little side not on matroshka embeddings. \n",
    "\n",
    "Our model generates embeddings in 384 dimensions, there are other models that use higher dimensions, usually higher dimensionality is correlated with better representation. But that also means longer preprocessing times, larger vectors to store and search. Can we create shorter embeddings that are almost as good with half the length or even shorter?"
   ]
  },
  {
   "cell_type": "markdown",
   "id": "d6ea0c7d-9b4b-4bac-b432-cc9836a1d9e0",
   "metadata": {},
   "source": [
    "Matryoshka Embeddings do just that, these models not just train the model for embeddings but the loss function also evaluates shorter embeddings at different dimensions. If needed we can use thsese models to reduce our computational burden for search and pre-processing. \n",
    "\n",
    "<div>\n",
    "<img src=\"https://huggingface.co/datasets/huggingface/documentation-images/resolve/main/blog/matryoshka/matryoshka-small.gif\" width=\"600\"/>\n",
    "</div>"
   ]
  },
  {
   "cell_type": "markdown",
   "id": "96fcd5d5-aa59-4ec1-9485-cf99b1e4fbd2",
   "metadata": {},
   "source": [
    "Ok, now that we are done with our vector store, how can we pass this onto the LLM? First we need to pick an llm, I will be using a small model and we will make it even smaller by 4bit quantizing it. "
   ]
  },
  {
   "cell_type": "code",
   "execution_count": 23,
   "id": "60bfcc12-7a93-4c40-b496-29b777f8fa2d",
   "metadata": {},
   "outputs": [],
   "source": [
    "from transformers import pipeline\n",
    "from transformers import AutoModelForCausalLM, BitsAndBytesConfig"
   ]
  },
  {
   "cell_type": "code",
   "execution_count": 33,
   "id": "8e22b5a7-c9e2-4d5b-a992-b8635aa0ac88",
   "metadata": {},
   "outputs": [],
   "source": [
    "llm=\"unsloth/granite-3.2-8b-instruct-unsloth-bnb-4bit\"\n"
   ]
  },
  {
   "cell_type": "code",
   "execution_count": 35,
   "id": "74c747f2-3a6d-4bcd-90cf-8342679a7612",
   "metadata": {},
   "outputs": [
    {
     "name": "stderr",
     "output_type": "stream",
     "text": [
      "`low_cpu_mem_usage` was None, now default to True since model is quantized.\n",
      "You shouldn't move a model when it is dispatched on multiple devices.\n"
     ]
    }
   ],
   "source": [
    "llm_model = AutoModelForCausalLM.from_pretrained(llm).to(\"cuda\")\n",
    "llm_tokenizer = AutoTokenizer.from_pretrained(llm)"
   ]
  },
  {
   "cell_type": "code",
   "execution_count": 51,
   "id": "cd32a799-0ca8-4082-8bcb-bc81b34def19",
   "metadata": {},
   "outputs": [
    {
     "name": "stderr",
     "output_type": "stream",
     "text": [
      "Device set to use cuda:0\n"
     ]
    }
   ],
   "source": [
    "pipe = pipeline(\n",
    "    model=llm_model,\n",
    "    tokenizer=llm_tokenizer,\n",
    "    task=\"text-generation\",\n",
    "    do_sample=True,\n",
    "    temperature=0.2,\n",
    "    repetition_penalty=1.1,\n",
    "    return_full_text=False,\n",
    "    max_new_tokens=300)"
   ]
  },
  {
   "cell_type": "code",
   "execution_count": 53,
   "id": "25a8b2c8-0693-456a-89cc-e56284ad5cc2",
   "metadata": {},
   "outputs": [
    {
     "data": {
      "text/plain": [
       "[{'generated_text': \"\\n\\n★★★★★ Absolutely delightful dining experience! The moment we stepped into this charming restaurant, we were greeted with warm smiles and a cozy ambiance. The menu offered a delightful array of dishes, each more tantalizing than the last. I opted for the signature dish, which was a masterpiece of flavors and textures. The presentation was impeccable, and every bite was a symphony of taste. The service was attentive yet unobtrusive, ensuring our glasses never ran dry and our needs were met promptly. The staff's knowledge of the menu and wine pairings was commendable. This restaurant is a must-visit for food lovers seeking an exceptional culinary journey. Highly recommended!\"}]"
      ]
     },
     "execution_count": 53,
     "metadata": {},
     "output_type": "execute_result"
    }
   ],
   "source": [
    "pipe(query)"
   ]
  },
  {
   "cell_type": "code",
   "execution_count": 41,
   "id": "fce16bd9-cb37-434e-9adc-d5a77939281c",
   "metadata": {},
   "outputs": [],
   "source": [
    "rag_prompt = [{\"role\": \"system\", \n",
    "             \"content\":\"Using the information contained in the context answer the question. Only provide answer to the question and nothing else. \"}, \n",
    "             {\"role\":\"user\", \n",
    "              \"content\": \"\"\"\n",
    "              \n",
    "              Context: {context}\n",
    "\n",
    "              Question: {question}\n",
    "              \"\"\"}]\n",
    "\n",
    "prompt_template=llm_tokenizer.apply_chat_template(rag_prompt, tokenize=False, add_generation_prompt=True)"
   ]
  },
  {
   "cell_type": "code",
   "execution_count": 59,
   "id": "561ff74f-8308-4208-9beb-658dfc0da186",
   "metadata": {},
   "outputs": [
    {
     "name": "stdout",
     "output_type": "stream",
     "text": [
      "\n",
      "Extracted documents:\n",
      "Document 0:::\n",
      "I was a little worried about seeing the reviews but everything. Was great! Not long wait time. Staff was nice from walking in the lobby and asking which way to the office, to the office staff.Document 1:::\n",
      "I was here a few times before and didn't review. I come here for the food, NOT the service. The establishment is lacking in its service. Their food is always great though! Very delicious for a dive bar.Document 2:::\n",
      "I really love going to cool, popular restaurants and having a great time, and I hate writing such a negative review, but I had to share my experience, especially for a restaurant that is getting an awful lot of (undeserved) hype.Document 3:::\n",
      "Not too sure why all the negative reviews. I was in and out within 5 mins. Maybe it was because I wasn't looking for something elaborate, who knows. Anyways, I got exactly what I needed and the employees were courteous. The store was organized, well stocked and clean. Unfortunately for this area however, I don't see them staying in business. So many other places near by closed.Document 4:::\n",
      "In the morning, feel free to partake in a complimentary breakfast (NOT CONTINENTAL)-I mean a real breakfast which changes daily; anything from fresh made waffles to eggs, sausage, and bacon! Also, cold cereal, juices, and coffees have options! Coffee is available 24/7 as well! \n",
      "\n",
      "The hotel also has a pool and hot tub which I personally observed them clean daily!\n",
      "\n",
      "On our last night we got back late and I was going to ask the desk for a late check out, but there was no need! Their check out time is 12:00 Pm as opposed to the hotel usual of 11:00 Am. That worked out well for us.\n",
      "\n",
      "At checkout we were asked if there was anything we would change about the hotel or our stay. I made small suggestions which I thought would help them, but definitely nothing major. The desk person wrote down what I said and said she would pass it on! I was impressed with that, because we've been asked about our stay at other places, but it seemed more out of routine than actual interest. Here, she seemed genuinely interested. We don't usually do reviews, so I'm sorry for the long review. However, we wanted you to get a real feel for this wonderful hotel and hope that you enjoy it as much as we did! Thanks for reading and safe travels. J & Niki.\n"
     ]
    }
   ],
   "source": [
    "retrieved_docs_text = [doc.page_content for doc in retrieved_docs]\n",
    "context = \"\\nExtracted documents:\\n\"\n",
    "context += \"\".join([f\"Document {str(i)}:::\\n\" + doc for i, doc in enumerate(retrieved_docs_text)])\n",
    "print(context)"
   ]
  },
  {
   "cell_type": "code",
   "execution_count": 47,
   "id": "ad927775-9894-4af8-bb72-16a68eca6bd1",
   "metadata": {},
   "outputs": [],
   "source": [
    "final_prompt = prompt_template.format(question=query, context=context)"
   ]
  },
  {
   "cell_type": "code",
   "execution_count": 58,
   "id": "8e0e50c7-af04-47b1-8ad0-28e576f74258",
   "metadata": {},
   "outputs": [
    {
     "name": "stdout",
     "output_type": "stream",
     "text": [
      "<|start_of_role|>system<|end_of_role|>Using the information contained in the context answer the question. Only provide answer to the question and nothing else. <|end_of_text|>\n",
      "<|start_of_role|>user<|end_of_role|>\n",
      "              \n",
      "              Context: \n",
      "Extracted documents:\n",
      "Document 0:::\n",
      "I was a little worried about seeing the reviews but everything. Was great! Not long wait time. Staff was nice from walking in the lobby and asking which way to the office, to the office staff.Document 1:::\n",
      "I was here a few times before and didn't review. I come here for the food, NOT the service. The establishment is lacking in its service. Their food is always great though! Very delicious for a dive bar.Document 2:::\n",
      "I really love going to cool, popular restaurants and having a great time, and I hate writing such a negative review, but I had to share my experience, especially for a restaurant that is getting an awful lot of (undeserved) hype.Document 3:::\n",
      "Not too sure why all the negative reviews. I was in and out within 5 mins. Maybe it was because I wasn't looking for something elaborate, who knows. Anyways, I got exactly what I needed and the employees were courteous. The store was organized, well stocked and clean. Unfortunately for this area however, I don't see them staying in business. So many other places near by closed.Document 4:::\n",
      "In the morning, feel free to partake in a complimentary breakfast (NOT CONTINENTAL)-I mean a real breakfast which changes daily; anything from fresh made waffles to eggs, sausage, and bacon! Also, cold cereal, juices, and coffees have options! Coffee is available 24/7 as well! \n",
      "\n",
      "The hotel also has a pool and hot tub which I personally observed them clean daily!\n",
      "\n",
      "On our last night we got back late and I was going to ask the desk for a late check out, but there was no need! Their check out time is 12:00 Pm as opposed to the hotel usual of 11:00 Am. That worked out well for us.\n",
      "\n",
      "At checkout we were asked if there was anything we would change about the hotel or our stay. I made small suggestions which I thought would help them, but definitely nothing major. The desk person wrote down what I said and said she would pass it on! I was impressed with that, because we've been asked about our stay at other places, but it seemed more out of routine than actual interest. Here, she seemed genuinely interested. We don't usually do reviews, so I'm sorry for the long review. However, we wanted you to get a real feel for this wonderful hotel and hope that you enjoy it as much as we did! Thanks for reading and safe travels. J & Niki.\n",
      "\n",
      "              Question: Can you write a positivie restaruant review?\n",
      "              <|end_of_text|>\n",
      "<|start_of_role|>assistant<|end_of_role|>\n"
     ]
    }
   ],
   "source": [
    "print(final_prompt)"
   ]
  },
  {
   "cell_type": "code",
   "execution_count": 57,
   "id": "dee60a21-67d6-45f3-9b16-cf0b72aeeb55",
   "metadata": {},
   "outputs": [
    {
     "name": "stdout",
     "output_type": "stream",
     "text": [
      "Absolutely, here's a positive restaurant review:\n",
      "\n",
      "Title: Exceptional Dining Experience at [Restaurant Name]\n",
      "\n",
      "I recently had the pleasure of visiting [Restaurant Name], and I am thrilled to share my outstanding experience. From the moment I stepped into the establishment, the warm and inviting ambiance immediately put me at ease.\n",
      "\n",
      "The staff was exceptionally friendly and attentive without being intrusive. They were knowledgeable about the menu and provided excellent recommendations based on my preferences. The service was prompt yet unhurried, ensuring a relaxed dining atmosphere.\n",
      "\n",
      "The food was nothing short of extraordinary. Each dish was beautifully presented and bursting with flavor. The quality of ingredients was evident, and every bite was a delightful surprise. Special mention goes to their signature dishes - they truly stand out.\n",
      "\n",
      "What sets this restaurant apart is its commitment to customer satisfaction. On our visit, we mentioned that we appreciated a later check-out time, and to our delight, they accommodated this request without any fuss. This level of flexibility and consideration is rare and greatly appreciated.\n",
      "\n",
      "In conclusion, [Restaurant Name] offers a superb dining experience. The combination of delectable cuisine, top-notch service, and a welcoming environment makes it a must-visit. I highly recommend it to\n"
     ]
    }
   ],
   "source": [
    "answer = pipe(final_prompt)[0][\"generated_text\"]\n",
    "\n",
    "print(answer)"
   ]
  },
  {
   "cell_type": "code",
   "execution_count": null,
   "id": "4bacdfc5-8a75-42a3-9e13-c8c59ac6b2c0",
   "metadata": {},
   "outputs": [],
   "source": []
  },
  {
   "cell_type": "markdown",
   "id": "b7460972-1ffa-4fdb-9e8b-25813c2753cd",
   "metadata": {},
   "source": [
    "## How to make this a stanalone thing\n",
    "\n",
    "We covered the importance of model selection for llm, embeddings "
   ]
  },
  {
   "cell_type": "markdown",
   "id": "32929098-ac92-46dc-8fd0-7b2bd22e9170",
   "metadata": {},
   "source": [
    "<div>\n",
    "<img src=\"https://media0.giphy.com/media/v1.Y2lkPTc5MGI3NjExMHk4ZmZ3bjJubTdqZ2tjeWl5Mnlob2c3bDBwMGozYmJ4eDY1dnFxNCZlcD12MV9pbnRlcm5hbF9naWZfYnlfaWQmY3Q9Zw/JN0IjHzKJpGfK/giphy.gif\" width=\"300\"/>\n",
    "</div>\n"
   ]
  },
  {
   "cell_type": "code",
   "execution_count": null,
   "id": "8509c5cb-433e-4986-84e7-60298bf084fc",
   "metadata": {},
   "outputs": [],
   "source": []
  }
 ],
 "metadata": {
  "kernelspec": {
   "display_name": "Python 3 (ipykernel)",
   "language": "python",
   "name": "python3"
  },
  "language_info": {
   "codemirror_mode": {
    "name": "ipython",
    "version": 3
   },
   "file_extension": ".py",
   "mimetype": "text/x-python",
   "name": "python",
   "nbconvert_exporter": "python",
   "pygments_lexer": "ipython3",
   "version": "3.10.16"
  }
 },
 "nbformat": 4,
 "nbformat_minor": 5
}
